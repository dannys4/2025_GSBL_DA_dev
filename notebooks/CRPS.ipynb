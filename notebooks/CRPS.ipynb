{
 "cells": [
  {
   "cell_type": "code",
   "execution_count": 11,
   "id": "424321ea",
   "metadata": {},
   "outputs": [
    {
     "name": "stderr",
     "output_type": "stream",
     "text": [
      "\u001b[32m\u001b[1mPrecompiling\u001b[22m\u001b[39m HierarchicalDA\n",
      "\u001b[32m  ✓ \u001b[39mHierarchicalDA\n",
      "  1 dependency successfully precompiled in 7 seconds. 497 already precompiled.\n"
     ]
    }
   ],
   "source": [
    "using Revise\n",
    "using HierarchicalDA\n",
    "using LinearAlgebra\n",
    "using Statistics\n",
    "using Distributions\n",
    "using StatsBase\n",
    "using QuadGK\n",
    "using Test"
   ]
  },
  {
   "cell_type": "code",
   "execution_count": 12,
   "id": "ea66bc1e",
   "metadata": {},
   "outputs": [],
   "source": [
    "using CairoMakie"
   ]
  },
  {
   "cell_type": "code",
   "execution_count": 13,
   "id": "999a1d82",
   "metadata": {},
   "outputs": [
    {
     "data": {
      "text/plain": [
       "Normal{Float64}(μ=0.1, σ=0.2)"
      ]
     },
     "execution_count": 13,
     "metadata": {},
     "output_type": "execute_result"
    }
   ],
   "source": [
    "μX = 0.1\n",
    "σX = 0.2\n",
    "πX = Normal(μX, σX)"
   ]
  },
  {
   "cell_type": "code",
   "execution_count": 14,
   "id": "3c21cdd7",
   "metadata": {},
   "outputs": [
    {
     "data": {
      "text/plain": [
       "0.3"
      ]
     },
     "execution_count": 14,
     "metadata": {},
     "output_type": "execute_result"
    }
   ],
   "source": [
    "xstar = 0.3"
   ]
  },
  {
   "cell_type": "code",
   "execution_count": 15,
   "id": "27c962af",
   "metadata": {},
   "outputs": [
    {
     "name": "stdout",
     "output_type": "stream",
     "text": [
      "\u001b[0m\u001b[1mTest Summary:            | \u001b[22m\u001b[32m\u001b[1mPass  \u001b[22m\u001b[39m\u001b[36m\u001b[1mTotal  \u001b[22m\u001b[39m\u001b[0m\u001b[1mTime\u001b[22m\n",
      "Test CRPS implementation | \u001b[32m   2  \u001b[39m\u001b[36m    2  \u001b[39m\u001b[0m0.7s\n"
     ]
    },
    {
     "data": {
      "text/plain": [
       "Test.DefaultTestSet(\"Test CRPS implementation\", Any[], 2, false, false, true, 1.717086759758041e9, 1.717086760486046e9, false, \"In[15]\")"
      ]
     },
     "execution_count": 15,
     "metadata": {},
     "output_type": "execute_result"
    }
   ],
   "source": [
    "@testset \"Test CRPS implementation\" begin\n",
    "    \n",
    "    μX = 0.1\n",
    "    σX = 0.2\n",
    "    πX = Normal(μX, σX)\n",
    "\n",
    "    xstar = 0.3\n",
    "\n",
    "    X = rand(πX, 10000)\n",
    "\n",
    "    @test isapprox(CRPS_gaussian(πX, xstar), CRPS_quadrature(X, xstar), atol =1e-2)\n",
    "    @test isapprox(CRPS_gaussian(πX, xstar), CRPS(X, xstar), atol =1e-2)\n",
    "end"
   ]
  },
  {
   "cell_type": "code",
   "execution_count": 194,
   "id": "75547400",
   "metadata": {},
   "outputs": [
    {
     "data": {
      "text/plain": [
       "CRPS_gaussian (generic function with 1 method)"
      ]
     },
     "execution_count": 194,
     "metadata": {},
     "output_type": "execute_result"
    }
   ],
   "source": [
    "function CRPS_gaussian(p::Normal{Float64}, x)\n",
    "    μ = mean(p)\n",
    "    σ = std(p)\n",
    "    z = (x-μ)/σ\n",
    "    return σ*(z*(2*cdf(Normal(), z) - 1) + 2*pdf(Normal(), z) - 1/sqrt(π))\n",
    "end"
   ]
  },
  {
   "cell_type": "code",
   "execution_count": 195,
   "id": "d3a91ac7",
   "metadata": {},
   "outputs": [
    {
     "data": {
      "text/plain": [
       "CRPS_quadrature (generic function with 1 method)"
      ]
     },
     "execution_count": 195,
     "metadata": {},
     "output_type": "execute_result"
    }
   ],
   "source": [
    "function CRPS_quadrature(X, x)\n",
    "    ΦX = ecdf(X)\n",
    "    Φx = ecdf([x])\n",
    "    return quadgk(x->(ΦX(x) - Φx(x))^2, -Inf, Inf)[1]\n",
    "end"
   ]
  },
  {
   "cell_type": "code",
   "execution_count": 196,
   "id": "88471df9",
   "metadata": {},
   "outputs": [
    {
     "data": {
      "text/plain": [
       "CRPS_fast (generic function with 1 method)"
      ]
     },
     "execution_count": 196,
     "metadata": {},
     "output_type": "execute_result"
    }
   ],
   "source": [
    "function CRPS_fast(X::Vector{Float64}, x::Float64)\n",
    "    N = length(X)\n",
    "    \n",
    "    Xsort = sort(X)\n",
    "    \n",
    "    term1 = 0.0\n",
    "    term2 = 0.0\n",
    "    @inbounds for i=1:N\n",
    "        xi = Xsort[i]\n",
    "        term1 += abs(xi - x)\n",
    "        for j=i+1:N\n",
    "            xj = Xsort[j]\n",
    "            term2 += 2*abs(xj - xi)\n",
    "        end\n",
    "    end\n",
    "    \n",
    "    term1 *= 1/N\n",
    "    term2 *= 1/N^2\n",
    "    \n",
    "    return term1 - 0.5*term2\n",
    "end"
   ]
  },
  {
   "cell_type": "code",
   "execution_count": 197,
   "id": "1d6c1d55",
   "metadata": {},
   "outputs": [],
   "source": [
    "Xsort = sort(X);"
   ]
  },
  {
   "cell_type": "code",
   "execution_count": 198,
   "id": "bc303f43",
   "metadata": {},
   "outputs": [
    {
     "data": {
      "text/plain": [
       "compute_crps (generic function with 1 method)"
      ]
     },
     "execution_count": 198,
     "metadata": {},
     "output_type": "execute_result"
    }
   ],
   "source": [
    "function compute_crps(samples::Vector{Float64}, observed_value::Float64)\n",
    "    N = length(samples)\n",
    "    sorted_samples = sort(samples)\n",
    "    \n",
    "    # Compute the empirical CDF\n",
    "    empirical_cdf = (1:N) / N\n",
    "    \n",
    "    # Compute the first term\n",
    "    term1 = mean(abs.(sorted_samples .- observed_value))\n",
    "    \n",
    "    # Compute the second term\n",
    "    term2 = mean(abs.(sorted_samples .- sorted_samples'))\n",
    "    \n",
    "    # CRPS calculation\n",
    "    crps = term1 - 0.5 * term2\n",
    "    \n",
    "    return crps\n",
    "end"
   ]
  },
  {
   "cell_type": "code",
   "execution_count": 199,
   "id": "ff8323ce",
   "metadata": {},
   "outputs": [
    {
     "name": "stdout",
     "output_type": "stream",
     "text": [
      "  0.004026 seconds (4.11 k allocations: 270.312 KiB, 99.61% compilation time)\n"
     ]
    },
    {
     "data": {
      "text/plain": [
       "0.12048827152552327"
      ]
     },
     "execution_count": 199,
     "metadata": {},
     "output_type": "execute_result"
    }
   ],
   "source": [
    "@time CRPS_gaussian(πX, xstar)"
   ]
  },
  {
   "cell_type": "code",
   "execution_count": 200,
   "id": "354ef0aa",
   "metadata": {},
   "outputs": [],
   "source": [
    "X = rand(πX, 1000);"
   ]
  },
  {
   "cell_type": "code",
   "execution_count": 201,
   "id": "06c81f5d",
   "metadata": {},
   "outputs": [
    {
     "name": "stdout",
     "output_type": "stream",
     "text": [
      "  0.001074 seconds (7 allocations: 7.655 MiB)\n"
     ]
    },
    {
     "data": {
      "text/plain": [
       "0.1185019102255604"
      ]
     },
     "execution_count": 201,
     "metadata": {},
     "output_type": "execute_result"
    }
   ],
   "source": [
    "@time compute_crps(X, xstar)"
   ]
  },
  {
   "cell_type": "code",
   "execution_count": 202,
   "id": "fe008a0d",
   "metadata": {},
   "outputs": [
    {
     "name": "stdout",
     "output_type": "stream",
     "text": [
      "  0.183676 seconds (465.77 k allocations: 30.415 MiB, 90.10% compilation time)\n"
     ]
    },
    {
     "data": {
      "text/plain": [
       "0.11850190266717606"
      ]
     },
     "execution_count": 202,
     "metadata": {},
     "output_type": "execute_result"
    }
   ],
   "source": [
    "@time CRPS_quadrature(X, xstar)"
   ]
  },
  {
   "cell_type": "code",
   "execution_count": 203,
   "id": "aff4d7d3",
   "metadata": {},
   "outputs": [
    {
     "name": "stdout",
     "output_type": "stream",
     "text": [
      "  0.000659 seconds (4 allocations: 18.188 KiB)\n"
     ]
    },
    {
     "data": {
      "text/plain": [
       "0.11850191022555867"
      ]
     },
     "execution_count": 203,
     "metadata": {},
     "output_type": "execute_result"
    }
   ],
   "source": [
    "@time CRPS_fast(X, xstar)"
   ]
  },
  {
   "cell_type": "code",
   "execution_count": 166,
   "id": "682eda7f",
   "metadata": {},
   "outputs": [
    {
     "data": {
      "text/plain": [
       "crps (generic function with 1 method)"
      ]
     },
     "execution_count": 166,
     "metadata": {},
     "output_type": "execute_result"
    }
   ],
   "source": [
    "function crps(observed_value::Float64, forecast_samples::Vector{Float64})\n",
    "    forecast_samples_sorted = sort(forecast_samples) \n",
    "    n = length(forecast_samples_sorted)\n",
    "    # Calculate the cumulative distribution function (CDF) of the forecast samples\n",
    "    cdf_values = [sum(forecast_samples_sorted .<= obs) / n for obs in forecast_samples_sorted]\n",
    "    \n",
    "    # Compute the integral of the squared difference between CDF and a Heaviside step function\n",
    "#     crps_value = mean([(cdf_values[i] - (forecast_samples[i] ≥ observed_value ))^2 for i in 1:n])\n",
    "    \n",
    "    return cdf_values\n",
    "end"
   ]
  },
  {
   "cell_type": "code",
   "execution_count": 167,
   "id": "465f0384",
   "metadata": {},
   "outputs": [
    {
     "data": {
      "text/plain": [
       "1000-element Vector{Float64}:\n",
       " 0.001\n",
       " 0.002\n",
       " 0.003\n",
       " 0.004\n",
       " 0.005\n",
       " 0.006\n",
       " 0.007\n",
       " 0.008\n",
       " 0.009\n",
       " 0.01\n",
       " 0.011\n",
       " 0.012\n",
       " 0.013\n",
       " ⋮\n",
       " 0.989\n",
       " 0.99\n",
       " 0.991\n",
       " 0.992\n",
       " 0.993\n",
       " 0.994\n",
       " 0.995\n",
       " 0.996\n",
       " 0.997\n",
       " 0.998\n",
       " 0.999\n",
       " 1.0"
      ]
     },
     "execution_count": 167,
     "metadata": {},
     "output_type": "execute_result"
    }
   ],
   "source": [
    "crps(xstar, X)"
   ]
  },
  {
   "cell_type": "code",
   "execution_count": 168,
   "id": "246c17e9",
   "metadata": {},
   "outputs": [
    {
     "data": {
      "text/plain": [
       "1000-element Vector{Float64}:\n",
       " 0.35\n",
       " 0.39\n",
       " 0.41\n",
       " 0.41\n",
       " 0.41\n",
       " 0.41\n",
       " 0.41\n",
       " 0.41\n",
       " 0.41\n",
       " 0.41\n",
       " 0.41\n",
       " 0.41\n",
       " 0.41\n",
       " ⋮\n",
       " 0.69\n",
       " 0.69\n",
       " 0.69\n",
       " 0.69\n",
       " 0.7\n",
       " 0.7\n",
       " 0.7\n",
       " 0.7\n",
       " 0.7\n",
       " 0.7\n",
       " 0.7\n",
       " 0.74"
      ]
     },
     "execution_count": 168,
     "metadata": {},
     "output_type": "execute_result"
    }
   ],
   "source": [
    "ΦX.(sort(X))"
   ]
  },
  {
   "cell_type": "code",
   "execution_count": 45,
   "id": "1fdad7e4",
   "metadata": {},
   "outputs": [
    {
     "name": "stdout",
     "output_type": "stream",
     "text": [
      "  0.156024 seconds (1.01 M allocations: 29.547 MiB, 93.20% compilation time)\n"
     ]
    },
    {
     "data": {
      "text/plain": [
       "0.23625408779324372"
      ]
     },
     "execution_count": 45,
     "metadata": {},
     "output_type": "execute_result"
    }
   ],
   "source": [
    "@time "
   ]
  },
  {
   "cell_type": "code",
   "execution_count": 61,
   "id": "7f7e340e",
   "metadata": {},
   "outputs": [
    {
     "ename": "LoadError",
     "evalue": "`Makie.convert_arguments` for the plot type Lines and its conversion trait PointBased() was unsuccessful.\n\nThe signature that could not be converted was:\n::Vector{Float32}, ::Vector{Vector{Float64}}\n\nMakie needs to convert all plot input arguments to types that can be consumed by the backends (typically Arrays with Float32 elements).\nYou can define a method for `Makie.convert_arguments` (a type recipe) for these types or their supertypes to make this set of arguments convertible (See http://docs.makie.org/stable/documentation/recipes/index.html).\n\nAlternatively, you can define `Makie.convert_single_argument` for single arguments which have types that are unknown to Makie but which can be converted to known types and fed back to the conversion pipeline.\n",
     "output_type": "error",
     "traceback": [
      "`Makie.convert_arguments` for the plot type Lines and its conversion trait PointBased() was unsuccessful.\n\nThe signature that could not be converted was:\n::Vector{Float32}, ::Vector{Vector{Float64}}\n\nMakie needs to convert all plot input arguments to types that can be consumed by the backends (typically Arrays with Float32 elements).\nYou can define a method for `Makie.convert_arguments` (a type recipe) for these types or their supertypes to make this set of arguments convertible (See http://docs.makie.org/stable/documentation/recipes/index.html).\n\nAlternatively, you can define `Makie.convert_single_argument` for single arguments which have types that are unknown to Makie but which can be converted to known types and fed back to the conversion pipeline.\n",
      "",
      "Stacktrace:",
      "  [1] error(s::String)",
      "    @ Base ./error.jl:35",
      "  [2] convert_arguments(::Type{Lines}, ::Vector{Float32}, ::Vararg{Any}; kw::@Kwargs{})",
      "    @ Makie ~/.julia/packages/Makie/ND0gA/src/conversions.jl:17",
      "  [3] convert_arguments(::Type{Lines}, ::Vector{Float32}, ::Vector{Vector{Float64}})",
      "    @ Makie ~/.julia/packages/Makie/ND0gA/src/conversions.jl:7",
      "  [4] convert_arguments_individually(::Type{Lines}, ::StepRangeLen{Float64, Base.TwicePrecision{Float64}, Base.TwicePrecision{Float64}, Int64}, ::Vararg{Any})",
      "    @ Makie ~/.julia/packages/Makie/ND0gA/src/conversions.jl:51",
      "  [5] convert_arguments(::Type{Lines}, ::StepRangeLen{Float64, Base.TwicePrecision{Float64}, Base.TwicePrecision{Float64}, Int64}, ::Vararg{Any}; kw::@Kwargs{})",
      "    @ Makie ~/.julia/packages/Makie/ND0gA/src/conversions.jl:14",
      "  [6] convert_arguments",
      "    @ Makie ~/.julia/packages/Makie/ND0gA/src/conversions.jl:7 [inlined]",
      "  [7] convert_arguments(P::Type{Lines}, r::StepRangeLen{Float64, Base.TwicePrecision{Float64}, Base.TwicePrecision{Float64}, Int64}, f::Function)",
      "    @ Makie ~/.julia/packages/Makie/ND0gA/src/conversions.jl:662",
      "  [8] (Lines)(args::Tuple{StepRangeLen{Float64, Base.TwicePrecision{Float64}, Base.TwicePrecision{Float64}, Int64}, var\"#79#80\"}, plot_attributes::Dict{Symbol, Any})",
      "    @ Makie ~/.julia/packages/Makie/ND0gA/src/interfaces.jl:139",
      "  [9] _create_plot!(::Function, ::Dict{Symbol, Any}, ::Axis, ::StepRangeLen{Float64, Base.TwicePrecision{Float64}, Base.TwicePrecision{Float64}, Int64}, ::Vararg{Any})",
      "    @ Makie ~/.julia/packages/Makie/ND0gA/src/figureplotting.jl:282",
      " [10] lines!(::Axis, ::Vararg{Any}; kw::@Kwargs{})",
      "    @ MakieCore ~/.julia/packages/MakieCore/UAwps/src/recipes.jl:176",
      " [11] top-level scope",
      "    @ In[61]:5"
     ]
    }
   ],
   "source": [
    "fig = Figure()\n",
    "\n",
    "ax = Axis(fig[1,1])\n",
    "\n",
    "lines!(ax, -5.0:0.01:5.0, x-> crps(xstar, X))\n",
    "lines!(ax, -5.0:0.01:5.0, x-> ecdf([0])(x))\n",
    "    \n",
    "fig"
   ]
  },
  {
   "cell_type": "code",
   "execution_count": 27,
   "id": "95a8b705",
   "metadata": {},
   "outputs": [
    {
     "data": {
      "image/png": "[encoded data removed]",
      "text/html": [
       "<img width=600 height=450 style='object-fit: contain; height: auto;' src=\"data:image/png;base64, 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\"/>"
      ]
     },
     "execution_count": 27,
     "metadata": {},
     "output_type": "execute_result"
    }
   ],
   "source": [
    "lines(-5.0:0.01:5.0, x-> ecdf([0])(x))"
   ]
  },
  {
   "cell_type": "code",
   "execution_count": null,
   "id": "812daec0",
   "metadata": {},
   "outputs": [],
   "source": []
  }
 ],
 "metadata": {
  "kernelspec": {
   "display_name": "Julia 1.10.0",
   "language": "julia",
   "name": "julia-1.10"
  },
  "language_info": {
   "file_extension": ".jl",
   "mimetype": "application/julia",
   "name": "julia",
   "version": "1.10.0"
  }
 },
 "nbformat": 4,
 "nbformat_minor": 5
}
