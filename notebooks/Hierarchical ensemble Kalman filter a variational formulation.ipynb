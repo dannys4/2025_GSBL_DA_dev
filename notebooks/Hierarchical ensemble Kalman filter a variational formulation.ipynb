{
 "cells": [
  {
   "cell_type": "code",
   "execution_count": 1,
   "id": "022aa5cd",
   "metadata": {},
   "outputs": [
    {
     "name": "stderr",
     "output_type": "stream",
     "text": [
      "\u001b[32m\u001b[1mPrecompiling\u001b[22m\u001b[39m HierarchicalDA\n",
      "\u001b[32m  ✓ \u001b[39mHierarchicalDA\n",
      "  1 dependency successfully precompiled in 6 seconds. 499 already precompiled.\n"
     ]
    }
   ],
   "source": [
    "using Revise\n",
    "using HierarchicalDA\n",
    "using LinearAlgebra\n",
    "using OrdinaryDiffEq\n",
    "using Trixi\n",
    "using PDMats\n",
    "using BlockArrays\n",
    "using LinearMaps\n",
    "using RecursiveArrayTools\n",
    "import Base: *, size\n",
    "using FastGaussQuadrature\n",
    "using IterativeSolvers\n",
    "using SciMLOperators\n",
    "using LinearSolve\n",
    "using SparseArrays\n",
    "using Statistics"
   ]
  },
  {
   "cell_type": "code",
   "execution_count": 2,
   "id": "546c9f80",
   "metadata": {},
   "outputs": [
    {
     "data": {
      "text/plain": [
       "6"
      ]
     },
     "execution_count": 2,
     "metadata": {},
     "output_type": "execute_result"
    }
   ],
   "source": [
    "Nx = 10\n",
    "Ny = 5\n",
    "\n",
    "nodes = gausslegendre(Nx)[1]\n",
    "PA = PolyAnnil(nodes, 4; istruncated = true);\n",
    "\n",
    "Ns = size(PA.P, 1)"
   ]
  },
  {
   "cell_type": "code",
   "execution_count": 3,
   "id": "119e39c3",
   "metadata": {},
   "outputs": [
    {
     "data": {
      "text/plain": [
       "([0.08915278830699969, 0.19230182483783465, 0.5655725332637251, 0.8639174048633399, 0.527165172089011], [0.47548778708748096, 0.5964663779956864, 0.6927936827082822, 0.6251866565827696, 0.4169954346802448, 0.8694056869069212])"
      ]
     },
     "execution_count": 3,
     "metadata": {},
     "output_type": "execute_result"
    }
   ],
   "source": [
    "ys = ObsConstraintVector(rand(Ny), rand(Ns))"
   ]
  },
  {
   "cell_type": "code",
   "execution_count": 41,
   "id": "4f014b83",
   "metadata": {},
   "outputs": [
    {
     "name": "stderr",
     "output_type": "stream",
     "text": [
      "\u001b[91m\u001b[1m┌ \u001b[22m\u001b[39m\u001b[91m\u001b[1mError: \u001b[22m\u001b[39mFailed to revise /Users/mathieu/Documents/HierarchicalDA.jl/src/HierarchicalDA.jl\n",
      "\u001b[91m\u001b[1m│ \u001b[22m\u001b[39m  exception =\n",
      "\u001b[91m\u001b[1m│ \u001b[22m\u001b[39m   LoadError: UndefVarError: `@showprogress` not defined\n",
      "\u001b[91m\u001b[1m│ \u001b[22m\u001b[39m   in expression starting at /Users/mathieu/Documents/HierarchicalDA.jl/src/inviscid_burgers/generate_data.jl:19\n",
      "\u001b[91m\u001b[1m└ \u001b[22m\u001b[39m\u001b[90m@ Revise ~/.julia/packages/Revise/bAgL0/src/packagedef.jl:724\u001b[39m\n"
     ]
    },
    {
     "ename": "LoadError",
     "evalue": "UndefVarError: `semi` not defined",
     "output_type": "error",
     "traceback": [
      "UndefVarError: `semi` not defined",
      "",
      "Stacktrace:",
      " [1] top-level scope",
      "   @ In[41]:1"
     ]
    }
   ],
   "source": [
    "compute_coefficients(0.0, semi)"
   ]
  },
  {
   "cell_type": "code",
   "execution_count": 10,
   "id": "b0bffe95",
   "metadata": {},
   "outputs": [
    {
     "data": {
      "text/plain": [
       "6×10 LinearMaps.WrappedMap{Float64} of\n",
       "  6×10 SparseMatrixCSC{Float64, Int64} with 30 stored entries"
      ]
     },
     "execution_count": 10,
     "metadata": {},
     "output_type": "execute_result"
    }
   ],
   "source": [
    "H = LinearMap(randn(Ny, Nx))\n",
    "Σϵ = LinearMap(PDiagMat(0.1 .+ rand(Ny)))\n",
    "Dθ = LinearMap(Diagonal(0.1 .+ rand(Ns)))\n",
    "Σx = LinearMap(PDMat((x->x*x')(randn(Nx, Nx))+ 10.0*I))\n",
    "S = LinearMap(PA.P)"
   ]
  },
  {
   "cell_type": "code",
   "execution_count": 13,
   "id": "ab2193f4",
   "metadata": {},
   "outputs": [
    {
     "data": {
      "text/plain": [
       "6×6 Diagonal{Float64, Vector{Float64}}:\n",
       " 0.99076   ⋅         ⋅         ⋅         ⋅         ⋅ \n",
       "  ⋅       0.179041   ⋅         ⋅         ⋅         ⋅ \n",
       "  ⋅        ⋅        0.585926   ⋅         ⋅         ⋅ \n",
       "  ⋅        ⋅         ⋅        0.109142   ⋅         ⋅ \n",
       "  ⋅        ⋅         ⋅         ⋅        0.652279   ⋅ \n",
       "  ⋅        ⋅         ⋅         ⋅         ⋅        0.666558"
      ]
     },
     "execution_count": 13,
     "metadata": {},
     "output_type": "execute_result"
    }
   ],
   "source": [
    "Dθ.lmap"
   ]
  },
  {
   "cell_type": "code",
   "execution_count": 6,
   "id": "ed535e76",
   "metadata": {},
   "outputs": [
    {
     "data": {
      "text/plain": [
       "EmpiricalCov(10, 20, [1.3699408366094683 0.7868935576984586 … -0.4628734523687668 0.661103388018871; 0.676693310407815 2.562007523660824 … 1.0766688471557155 0.49953570057961716; … ; -1.608098521389502 -0.809022873720813 … 0.3211349548647069 -2.2041375498534643; -1.3942574262675782 0.6271703503737603 … -0.40303376792097134 -0.49026514476450833], [0.3504504755211593, 0.3718942474972036, -0.6393397633272074, 0.08720324013272149, 0.20455156415438047, -0.04636314740221514, -0.25420079384195093, 0.28638086678928565, -0.3215333645383392, -0.3896869948263239])"
      ]
     },
     "execution_count": 6,
     "metadata": {},
     "output_type": "execute_result"
    }
   ],
   "source": [
    "X = randn(Nx, 20)\n",
    "\n",
    "CX = EmpiricalCov(X)"
   ]
  },
  {
   "cell_type": "code",
   "execution_count": 15,
   "id": "c9e15f01",
   "metadata": {},
   "outputs": [
    {
     "data": {
      "text/plain": [
       "10×10 LinearMaps.FunctionMap{Float64,true}(#7; issymmetric=true, ishermitian=true, isposdef=false)"
      ]
     },
     "execution_count": 15,
     "metadata": {},
     "output_type": "execute_result"
    }
   ],
   "source": [
    "CX_op = LinearMaps.FunctionMap{Float64,true}((y,x)->mul!(y, CX, x), Nx; issymmetric=true, isposdef=false)"
   ]
  },
  {
   "cell_type": "code",
   "execution_count": 16,
   "id": "ef538892",
   "metadata": {},
   "outputs": [
    {
     "data": {
      "text/plain": [
       "11×11 LinearMaps.FunctionMap{Float64,true}(#9; issymmetric=true, ishermitian=true, isposdef=true)"
      ]
     },
     "execution_count": 16,
     "metadata": {},
     "output_type": "execute_result"
    }
   ],
   "source": [
    "sys = ObsConstraintSystem(H, S, Dθ, Σϵ, CX_op)\n",
    "sys_op = LinearMaps.FunctionMap{Float64,true}((y,x)->mul!(y, sys, x), Ny+Ns; issymmetric=true, isposdef=true)"
   ]
  },
  {
   "cell_type": "code",
   "execution_count": 25,
   "id": "3ad9c2f9",
   "metadata": {},
   "outputs": [
    {
     "data": {
      "text/plain": [
       "6-element Vector{Float64}:\n",
       "  0.2419766700785397\n",
       " -0.0637843192953752\n",
       "  0.05487693758287113\n",
       "  0.11048150025766618\n",
       " -0.3608803392817713\n",
       " -0.7472894820895091"
      ]
     },
     "execution_count": 25,
     "metadata": {},
     "output_type": "execute_result"
    }
   ],
   "source": [
    "mul!(constraint(ys), S, x)"
   ]
  },
  {
   "cell_type": "code",
   "execution_count": 26,
   "id": "26a1bb95",
   "metadata": {},
   "outputs": [
    {
     "data": {
      "text/plain": [
       "11-element Vector{Float64}:\n",
       "  0.003822608902809471\n",
       "  0.10078296580154027\n",
       "  0.6046779025294428\n",
       "  1.1729805736961914\n",
       "  0.18635101300545562\n",
       " -0.6349775657949539\n",
       " -0.4195729437814132\n",
       " -0.12584611707172225\n",
       "  0.6271121069845151\n",
       "  1.0771967601419645\n",
       "  0.44941576439393083"
      ]
     },
     "execution_count": 26,
     "metadata": {},
     "output_type": "execute_result"
    }
   ],
   "source": [
    "cg(sys_op, test_1)"
   ]
  },
  {
   "cell_type": "code",
   "execution_count": 32,
   "id": "caaac032",
   "metadata": {},
   "outputs": [
    {
     "data": {
      "text/plain": [
       "([-0.0021007333516648713, 0.09721066078771715, 0.6121600044439626, 1.16363306375158, 0.18543366420591106], [-0.6270708947702954, -0.4026712895725421, -0.10294366248232556, 0.6405715883400466, 1.0836288804777525, 0.4472406718525549])"
      ]
     },
     "execution_count": 32,
     "metadata": {},
     "output_type": "execute_result"
    }
   ],
   "source": [
    "cg!(test_2, sys_op, test_2)"
   ]
  },
  {
   "cell_type": "code",
   "execution_count": 15,
   "id": "0be27a04",
   "metadata": {},
   "outputs": [
    {
     "data": {
      "text/plain": [
       "([0.0, 0.0, 0.0, 0.0], [0.0, 0.0, 0.0, 0.0, 0.0])"
      ]
     },
     "execution_count": 15,
     "metadata": {},
     "output_type": "execute_result"
    }
   ],
   "source": [
    "ObsConstraintVector(4, 5)"
   ]
  },
  {
   "cell_type": "code",
   "execution_count": 40,
   "id": "e2f1137b",
   "metadata": {},
   "outputs": [
    {
     "data": {
      "text/plain": [
       "6-element Vector{Float64}:\n",
       "  2.4989756225694264\n",
       " -3.5776557357037757\n",
       "  2.7339998666768595\n",
       " -0.34102170233855955\n",
       " -3.1502365358947335\n",
       "  6.449549425787787"
      ]
     },
     "execution_count": 40,
     "metadata": {},
     "output_type": "execute_result"
    }
   ],
   "source": [
    " S*randn(Nx)"
   ]
  },
  {
   "cell_type": "code",
   "execution_count": 24,
   "id": "cdc62bcc",
   "metadata": {},
   "outputs": [
    {
     "data": {
      "text/plain": [
       "([1.1080501436243524, 0.7330601740396127, 1.6666426041899507, -0.4982944715702363, -0.7882386314183453], [-0.6239082600922456, -0.07075679945471874, 0.2585153344188139, -0.8831443883395191, 1.593408756238721, 0.5183868624219737])"
      ]
     },
     "execution_count": 24,
     "metadata": {},
     "output_type": "execute_result"
    }
   ],
   "source": [
    "test_1 = randn(Ny+Ns);\n",
    "test_2 = ObsConstraintVector(test_1[1:Ny], test_1[Ny+1:Ny+Ns])"
   ]
  },
  {
   "cell_type": "code",
   "execution_count": 6,
   "id": "6ef6ab48",
   "metadata": {},
   "outputs": [
    {
     "data": {
      "text/plain": [
       "1096-element Vector{Float64}:\n",
       "       1.597267513605389e6\n",
       " -407440.9648352746\n",
       "  189069.44139422695\n",
       "      -2.104865658190339e6\n",
       " -724703.2977673538\n",
       "  957722.0458471449\n",
       " -977327.0117853598\n",
       "      -1.5139969716912904e6\n",
       "  -15471.087936422628\n",
       "  300456.0848872592\n",
       "       1.497703981694312e6\n",
       "  730236.9690084859\n",
       "       1.115270636800612e6\n",
       "       ⋮\n",
       "   34815.41792535287\n",
       "  -16905.036705056806\n",
       "   27302.472324766877\n",
       "  -30859.14714627152\n",
       "   20938.84668690218\n",
       "   -5954.262298030299\n",
       "    1098.8005935960246\n",
       "  -46559.63214199423\n",
       "   88699.33372567977\n",
       "  -69816.48886531737\n",
       "   36026.392911733536\n",
       "  -10253.49851030271"
      ]
     },
     "execution_count": 6,
     "metadata": {},
     "output_type": "execute_result"
    }
   ],
   "source": [
    "sys*test"
   ]
  },
  {
   "cell_type": "code",
   "execution_count": null,
   "id": "83e940fc",
   "metadata": {},
   "outputs": [],
   "source": []
  },
  {
   "cell_type": "code",
   "execution_count": null,
   "id": "240af075",
   "metadata": {},
   "outputs": [],
   "source": []
  },
  {
   "cell_type": "code",
   "execution_count": null,
   "id": "60ba132f",
   "metadata": {},
   "outputs": [],
   "source": []
  },
  {
   "cell_type": "code",
   "execution_count": null,
   "id": "1e646f4c",
   "metadata": {},
   "outputs": [],
   "source": []
  },
  {
   "cell_type": "code",
   "execution_count": 8,
   "id": "25a3fa7d",
   "metadata": {},
   "outputs": [
    {
     "data": {
      "text/plain": [
       "([-0.00039110246296669975, 0.003115343751177836, -0.007735627501787999, -0.013815118062827503, 0.0012559267087378526, -0.0031154224140094652, -0.002103266587713417, 0.004572596878025352, -0.0032685974251189824, 0.012507804495123478  …  0.8143627914946362, 0.39808437916460043, 0.01850204895833222, -0.16996822642054127, -0.15870373020232847, -0.08669516889124644, -0.12236537582712465, -0.10227800585273049, -0.026099396365607215, 0.0026532286273062587], Not converged after 1096 iterations.)"
      ]
     },
     "execution_count": 8,
     "metadata": {},
     "output_type": "execute_result"
    }
   ],
   "source": [
    "cg(sys_op, test; log = true)"
   ]
  },
  {
   "cell_type": "code",
   "execution_count": 18,
   "id": "f8e2a96f",
   "metadata": {},
   "outputs": [
    {
     "data": {
      "text/plain": [
       "size (generic function with 504 methods)"
      ]
     },
     "execution_count": 18,
     "metadata": {},
     "output_type": "execute_result"
    }
   ],
   "source": [
    "struct ObsConstraintSystem \n",
    "    Nx::Int64\n",
    "    Ny::Int64\n",
    "    Ns::Int64\n",
    "    H::LinearMap \n",
    "    S::LinearMap\n",
    "    Dθ::LinearMap\n",
    "    Σϵ::LinearMap\n",
    "    Σx::LinearMap\n",
    "    cache_xx::ArrayPartition{Float64}\n",
    "    cache_ys::ObsConstraintVector\n",
    "end\n",
    "\n",
    "function ObsConstraintSystem(H::LinearMap, S::LinearMap, \n",
    "                             Dθ::LinearMap, Σϵ::LinearMap, Σx::LinearMap)\n",
    "    Nx = size(Σx,1)\n",
    "    Ny = size(H,1)\n",
    "    Ns = size(S,1)\n",
    "    \n",
    "    cache_xx = ArrayPartition(zeros(Nx), zeros(Nx))\n",
    "    cache_ys = ArrayPartition(zeros(Ny), zeros(Ns))\n",
    "    \n",
    "    return ObsConstraintSystem(Nx, Ny, Ns, H, S, Dθ, Σϵ, Σx, cache_xx, cache_ys)\n",
    "end\n",
    "\n",
    "function mul!(output::ObsConstraintVector,\n",
    "              sys::ObsConstraintSystem,\n",
    "              input::ObsConstraintVector)\n",
    "    \n",
    "    y = observation(input)\n",
    "    s = constraint(input)\n",
    "    \n",
    "    @unpack H, S, Dθ, Σϵ, Σx = sys\n",
    "#     #############\n",
    "#     # Compute Hᵀy\n",
    "#     mul!(sys.cache_xx.x[1], H', y)\n",
    "    \n",
    "#     # Compute Sᵀs\n",
    "#     mul!(sys.cache_xx.x[2], S', s)\n",
    "        \n",
    "#     #############\n",
    "#     # Compute Σx(Hᵀy)\n",
    "#     mul!(sys.cache_xx.x[1], Σx, sys.cache_xx.x[1])\n",
    "    \n",
    "#     # Compute HΣx(Sᵀs)\n",
    "#     mul!(sys.cache_xx.x[2], Σx, sys.cache_xx.x[2])\n",
    "    \n",
    "    #############\n",
    "    # Compute H Σx(Hᵀy)\n",
    "\n",
    "    output.x[1] .= Σϵ*y\n",
    "    output.x[1] .+= H*(Σx*(H'*y))\n",
    "    output.x[1] .+= H*(Σx*(S'*s))\n",
    "        \n",
    "    output.x[2] .= S*(Σx*(H'*y))\n",
    "    output.x[2] .+= Dθ*s\n",
    "    output.x[2] .+= S*(Σx*(S'*s))   \n",
    "\n",
    "    return output\n",
    "end\n",
    "\n",
    "function (*)(sys::ObsConstraintSystem, input::ObsConstraintVector)\n",
    "    output = similar(input)\n",
    "    mul!(output,sys,input)\n",
    "    return output\n",
    "end\n",
    "\n",
    "\n",
    "function mul!(output::Vector{Float64},\n",
    "              sys::ObsConstraintSystem,\n",
    "              input::Vector{Float64})\n",
    "    \n",
    "    idx_y = 1:Ny\n",
    "    idx_s = Ny+1:Ny+Ns\n",
    "    \n",
    "    y = view(input, idx_y)\n",
    "    s = view(input, idx_s)\n",
    "    \n",
    "    @unpack H, S, Dθ, Σϵ, Σx = sys\n",
    "#     #############\n",
    "#     # Compute Hᵀy\n",
    "#     mul!(sys.cache_xx.x[1], H', y)\n",
    "    \n",
    "#     # Compute Sᵀs\n",
    "#     mul!(sys.cache_xx.x[2], S', s)\n",
    "        \n",
    "#     #############\n",
    "#     # Compute Σx(Hᵀy)\n",
    "#     mul!(sys.cache_xx.x[1], Σx, sys.cache_xx.x[1])\n",
    "    \n",
    "#     # Compute HΣx(Sᵀs)\n",
    "#     mul!(sys.cache_xx.x[2], Σx, sys.cache_xx.x[2])\n",
    "    \n",
    "    #############\n",
    "    # Compute H Σx(Hᵀy)\n",
    "\n",
    "    output[idx_y] .= Σϵ*y\n",
    "    output[idx_y] .+= H*(Σx*(H'*y))\n",
    "    output[idx_y] .+= H*(Σx*(S'*s))\n",
    "        \n",
    "    output[idx_s] .= S*(Σx*(H'*y))\n",
    "    output[idx_s] .+= Dθ*s\n",
    "    output[idx_s] .+= S*(Σx*(S'*s))   \n",
    "\n",
    "    return output\n",
    "end\n",
    "\n",
    "function (*)(sys::ObsConstraintSystem, input::Vector{Float64})\n",
    "    output = similar(input)\n",
    "    mul!(output,sys,input)\n",
    "    return output\n",
    "end\n",
    "\n",
    "size(sys::ObsConstraintSystem) = (sys.Ny+sys.Ns, sys.Ny+sys.Ns) "
   ]
  },
  {
   "cell_type": "code",
   "execution_count": 20,
   "id": "d9950957",
   "metadata": {},
   "outputs": [
    {
     "ename": "CanonicalIndexError",
     "evalue": "CanonicalIndexError: getindex not defined for ObsConstraintSystem",
     "output_type": "error",
     "traceback": [
      "CanonicalIndexError: getindex not defined for ObsConstraintSystem",
      "",
      "Stacktrace:",
      "  [1] error_if_canonical_getindex(::IndexCartesian, ::ObsConstraintSystem, ::Int64, ::Int64)",
      "    @ Base ./abstractarray.jl:1307",
      "  [2] getindex",
      "    @ ./abstractarray.jl:1287 [inlined]",
      "  [3] isassigned(::ObsConstraintSystem, ::Int64, ::Int64)",
      "    @ Base ./multidimensional.jl:1578",
      "  [4] alignment(io::IOContext{IOBuffer}, X::AbstractVecOrMat, rows::Vector{Int64}, cols::Vector{Int64}, cols_if_complete::Int64, cols_otherwise::Int64, sep::Int64, ncols::Int64)",
      "    @ Base ./arrayshow.jl:68",
      "  [5] _print_matrix(io::IOContext{IOBuffer}, X::AbstractVecOrMat, pre::String, sep::String, post::String, hdots::String, vdots::String, ddots::String, hmod::Int64, vmod::Int64, rowsA::UnitRange{Int64}, colsA::UnitRange{Int64})",
      "    @ Base ./arrayshow.jl:207",
      "  [6] print_matrix(io::IOContext{IOBuffer}, X::ObsConstraintSystem, pre::String, sep::String, post::String, hdots::String, vdots::String, ddots::String, hmod::Int64, vmod::Int64)",
      "    @ Base ./arrayshow.jl:171",
      "  [7] print_matrix(io::IO, X::AbstractVecOrMat, pre::AbstractString, sep::AbstractString, post::AbstractString, hdots::AbstractString, vdots::AbstractString, ddots::AbstractString, hmod::Integer, vmod::Integer)",
      "    @ Base ./arrayshow.jl:171 [inlined]",
      "  [8] print_array",
      "    @ ./arrayshow.jl:358 [inlined]",
      "  [9] show(io::IOContext{IOBuffer}, ::MIME{Symbol(\"text/plain\")}, X::ObsConstraintSystem)",
      "    @ Base ./arrayshow.jl:399",
      " [10] limitstringmime(mime::MIME{Symbol(\"text/plain\")}, x::ObsConstraintSystem, forcetext::Bool)",
      "    @ IJulia ~/.julia/packages/IJulia/Vo51o/src/inline.jl:43",
      " [11] limitstringmime(mime::MIME, x::Any, forcetext::Any)",
      "    @ IJulia ~/.julia/packages/IJulia/Vo51o/src/inline.jl:38 [inlined]",
      " [12] display_mimestring(m::MIME{Symbol(\"text/plain\")}, x::ObsConstraintSystem)",
      "    @ IJulia ~/.julia/packages/IJulia/Vo51o/src/display.jl:71",
      " [13] display_dict(x::ObsConstraintSystem)",
      "    @ IJulia ~/.julia/packages/IJulia/Vo51o/src/display.jl:102",
      " [14] #invokelatest#2",
      "    @ ./essentials.jl:887 [inlined]",
      " [15] invokelatest",
      "    @ ./essentials.jl:884 [inlined]",
      " [16] execute_request(socket::ZMQ.Socket, msg::IJulia.Msg)",
      "    @ IJulia ~/.julia/packages/IJulia/Vo51o/src/execute_request.jl:112",
      " [17] #invokelatest#2",
      "    @ ./essentials.jl:887 [inlined]",
      " [18] invokelatest",
      "    @ ./essentials.jl:884 [inlined]",
      " [19] eventloop(socket::ZMQ.Socket)",
      "    @ IJulia ~/.julia/packages/IJulia/Vo51o/src/eventloop.jl:8",
      " [20] (::IJulia.var\"#15#18\")()",
      "    @ IJulia ~/.julia/packages/IJulia/Vo51o/src/eventloop.jl:38"
     ]
    }
   ],
   "source": [
    "sys = ObsConstraintSystem(H, S, Dθ, Σϵ, Σx)"
   ]
  },
  {
   "cell_type": "code",
   "execution_count": 5,
   "id": "660b5e64",
   "metadata": {},
   "outputs": [
    {
     "ename": "LoadError",
     "evalue": "UndefVarError: `sys` not defined",
     "output_type": "error",
     "traceback": [
      "UndefVarError: `sys` not defined",
      "",
      "Stacktrace:",
      " [1] top-level scope",
      "   @ In[5]:1"
     ]
    }
   ],
   "source": [
    "MatrixOperator(sys, zeros(Ny+Ns), zeros(Ny+Ns))"
   ]
  },
  {
   "cell_type": "code",
   "execution_count": 34,
   "id": "28deea9b",
   "metadata": {},
   "outputs": [
    {
     "data": {
      "text/plain": [
       "apply! (generic function with 1 method)"
      ]
     },
     "execution_count": 34,
     "metadata": {},
     "output_type": "execute_result"
    }
   ],
   "source": [
    "function apply!(output::Vector{Float64}, sys::ObsConstraintSystem, input::Vector{Float64})\n",
    "    idx_y = 1:Ny\n",
    "    idx_s = Ny+1:Ny+Ns\n",
    "    \n",
    "    y = view(input, idx_y)\n",
    "    s = view(input, idx_s)\n",
    "    \n",
    "    @unpack H, S, Dθ, Σϵ, Σx = sys\n",
    "#     #############\n",
    "#     # Compute Hᵀy\n",
    "#     mul!(sys.cache_xx.x[1], H', y)\n",
    "    \n",
    "#     # Compute Sᵀs\n",
    "#     mul!(sys.cache_xx.x[2], S', s)\n",
    "        \n",
    "#     #############\n",
    "#     # Compute Σx(Hᵀy)\n",
    "#     mul!(sys.cache_xx.x[1], Σx, sys.cache_xx.x[1])\n",
    "    \n",
    "#     # Compute HΣx(Sᵀs)\n",
    "#     mul!(sys.cache_xx.x[2], Σx, sys.cache_xx.x[2])\n",
    "    \n",
    "    #############\n",
    "    # Compute H Σx(Hᵀy)\n",
    "\n",
    "    output[idx_y] .= Σϵ*y\n",
    "    output[idx_y] .+= H*(Σx*(H'*y))\n",
    "    output[idx_y] .+= H*(Σx*(S'*s))\n",
    "        \n",
    "    output[idx_s] .= S*(Σx*(H'*y))\n",
    "    output[idx_s] .+= Dθ*s\n",
    "    output[idx_s] .+= S*(Σx*(S'*s))   \n",
    "\n",
    "    return output\n",
    "end"
   ]
  },
  {
   "cell_type": "code",
   "execution_count": 29,
   "id": "2c69f704",
   "metadata": {},
   "outputs": [
    {
     "ename": "LoadError",
     "evalue": "UndefVarError: `WrappedFunction` not defined",
     "output_type": "error",
     "traceback": [
      "UndefVarError: `WrappedFunction` not defined",
      "",
      "Stacktrace:",
      " [1] getproperty(x::Module, f::Symbol)",
      "   @ Base ./Base.jl:31",
      " [2] top-level scope",
      "   @ In[29]:1"
     ]
    }
   ],
   "source": [
    "LinearMaps.WrappedFunction(sys)"
   ]
  },
  {
   "cell_type": "code",
   "execution_count": 32,
   "id": "3d2f5f1e",
   "metadata": {},
   "outputs": [
    {
     "ename": "LoadError",
     "evalue": "MethodError: no method matching FunctionOperator(::ObsConstraintSystem)\n\n\u001b[0mClosest candidates are:\n\u001b[0m  FunctionOperator(::Any, \u001b[91m::Any\u001b[39m, \u001b[91m::Any\u001b[39m, \u001b[91m::Any\u001b[39m, \u001b[91m::Any\u001b[39m, \u001b[91m::Any\u001b[39m, \u001b[91m::Any\u001b[39m, \u001b[91m::Any\u001b[39m, \u001b[91m::Type{iType}\u001b[39m, \u001b[91m::Type{oType}\u001b[39m) where {iType, oType}\n\u001b[0m\u001b[90m   @\u001b[39m \u001b[35mSciMLOperators\u001b[39m \u001b[90m~/.julia/packages/SciMLOperators/Kto0y/src/\u001b[39m\u001b[90m\u001b[4mfunc.jl:27\u001b[24m\u001b[39m\n\u001b[0m  FunctionOperator(::Any, \u001b[91m::AbstractArray\u001b[39m; ...)\n\u001b[0m\u001b[90m   @\u001b[39m \u001b[35mSciMLOperators\u001b[39m \u001b[90m~/.julia/packages/SciMLOperators/Kto0y/src/\u001b[39m\u001b[90m\u001b[4mfunc.jl:187\u001b[24m\u001b[39m\n\u001b[0m  FunctionOperator(::Any, \u001b[91m::AbstractArray\u001b[39m, \u001b[91m::AbstractArray\u001b[39m; op_adjoint, op_inverse, op_adjoint_inverse, p, t, accepted_kwargs, T, isinplace, outofplace, has_mul5, isconstant, islinear, isconvertible, batch, ifcache, cache, opnorm, issymmetric, ishermitian, isposdef)\n\u001b[0m\u001b[90m   @\u001b[39m \u001b[35mSciMLOperators\u001b[39m \u001b[90m~/.julia/packages/SciMLOperators/Kto0y/src/\u001b[39m\u001b[90m\u001b[4mfunc.jl:187\u001b[24m\u001b[39m\n",
     "output_type": "error",
     "traceback": [
      "MethodError: no method matching FunctionOperator(::ObsConstraintSystem)\n\n\u001b[0mClosest candidates are:\n\u001b[0m  FunctionOperator(::Any, \u001b[91m::Any\u001b[39m, \u001b[91m::Any\u001b[39m, \u001b[91m::Any\u001b[39m, \u001b[91m::Any\u001b[39m, \u001b[91m::Any\u001b[39m, \u001b[91m::Any\u001b[39m, \u001b[91m::Any\u001b[39m, \u001b[91m::Type{iType}\u001b[39m, \u001b[91m::Type{oType}\u001b[39m) where {iType, oType}\n\u001b[0m\u001b[90m   @\u001b[39m \u001b[35mSciMLOperators\u001b[39m \u001b[90m~/.julia/packages/SciMLOperators/Kto0y/src/\u001b[39m\u001b[90m\u001b[4mfunc.jl:27\u001b[24m\u001b[39m\n\u001b[0m  FunctionOperator(::Any, \u001b[91m::AbstractArray\u001b[39m; ...)\n\u001b[0m\u001b[90m   @\u001b[39m \u001b[35mSciMLOperators\u001b[39m \u001b[90m~/.julia/packages/SciMLOperators/Kto0y/src/\u001b[39m\u001b[90m\u001b[4mfunc.jl:187\u001b[24m\u001b[39m\n\u001b[0m  FunctionOperator(::Any, \u001b[91m::AbstractArray\u001b[39m, \u001b[91m::AbstractArray\u001b[39m; op_adjoint, op_inverse, op_adjoint_inverse, p, t, accepted_kwargs, T, isinplace, outofplace, has_mul5, isconstant, islinear, isconvertible, batch, ifcache, cache, opnorm, issymmetric, ishermitian, isposdef)\n\u001b[0m\u001b[90m   @\u001b[39m \u001b[35mSciMLOperators\u001b[39m \u001b[90m~/.julia/packages/SciMLOperators/Kto0y/src/\u001b[39m\u001b[90m\u001b[4mfunc.jl:187\u001b[24m\u001b[39m\n",
      "",
      "Stacktrace:",
      " [1] top-level scope",
      "   @ In[32]:1"
     ]
    }
   ],
   "source": [
    "FunctionOperator(sys)"
   ]
  },
  {
   "cell_type": "code",
   "execution_count": 19,
   "id": "b71a0bb6",
   "metadata": {},
   "outputs": [
    {
     "data": {
      "text/plain": [
       "100-element Vector{Float64}:\n",
       "  0.0030407095762021146\n",
       "  0.003549191465762482\n",
       "  0.002579108672097998\n",
       " -8.285399104774769e-5\n",
       " -0.00018301581585213956\n",
       "  0.0022237227404554435\n",
       "  0.002025519616156252\n",
       "  0.0021016976305019653\n",
       "  0.0028991471777648123\n",
       "  0.0029124419853746013\n",
       "  0.0006068077295321253\n",
       " -0.0006031853553029227\n",
       "  0.00045182516005597086\n",
       "  ⋮\n",
       "  0.0013346725787940486\n",
       " -0.0005213865737275354\n",
       "  0.00037714667135322884\n",
       "  0.001620876046806582\n",
       "  0.001611851547494696\n",
       "  0.0017718510531242538\n",
       " -0.000434449719318406\n",
       " -0.0007279131660973888\n",
       "  0.00016436086055573323\n",
       "  0.0012760246606995545\n",
       "  0.00015925831193610353\n",
       "  0.0018365456542898829"
      ]
     },
     "execution_count": 19,
     "metadata": {},
     "output_type": "execute_result"
    }
   ],
   "source": [
    "n = 100\n",
    "A = rand(n, n)\n",
    "A = A + A' + 2*n*I\n",
    "b = rand(n)\n",
    "x = cg(A, b)"
   ]
  },
  {
   "cell_type": "code",
   "execution_count": 20,
   "id": "8966c4a6",
   "metadata": {},
   "outputs": [
    {
     "data": {
      "text/plain": [
       "1096-element Vector{Float64}:\n",
       " -1.5847559866307692\n",
       "  1.222262936244968\n",
       " -1.2790273456361687\n",
       " -0.4374968598391522\n",
       "  1.099922944962484\n",
       " -0.36556102306045\n",
       "  0.551091548093427\n",
       " -1.4146610899398513\n",
       " -0.19865444836298274\n",
       " -0.3788489430489827\n",
       " -0.7364476380163263\n",
       "  0.010129848901427724\n",
       " -0.6366388211656948\n",
       "  ⋮\n",
       "  1.27837292225789\n",
       " -1.780378657746136\n",
       " -2.0866975020084775\n",
       " -2.2427724510274563\n",
       "  1.3135224712171925\n",
       "  0.8820556126983615\n",
       " -0.30384043823219103\n",
       " -0.07781018248798904\n",
       "  1.4924271908871491\n",
       "  0.37183671334605845\n",
       "  0.9298279702963536\n",
       "  1.2566897090047338"
      ]
     },
     "execution_count": 20,
     "metadata": {},
     "output_type": "execute_result"
    }
   ],
   "source": [
    "out = randn(Ny+Ns) "
   ]
  },
  {
   "cell_type": "code",
   "execution_count": 21,
   "id": "babedf24",
   "metadata": {},
   "outputs": [
    {
     "ename": "LoadError",
     "evalue": "MethodError: no method matching one(::Type{Any})\n\n\u001b[0mClosest candidates are:\n\u001b[0m  one(::Type{Union{Missing, T}}) where T\n\u001b[0m\u001b[90m   @\u001b[39m \u001b[90mBase\u001b[39m \u001b[90m\u001b[4mmissing.jl:105\u001b[24m\u001b[39m\n\u001b[0m  one(\u001b[91m::Type{Union{}}\u001b[39m, Any...)\n\u001b[0m\u001b[90m   @\u001b[39m \u001b[90mBase\u001b[39m \u001b[90m\u001b[4mnumber.jl:349\u001b[24m\u001b[39m\n\u001b[0m  one(\u001b[91m::Type{VectorInterface.Zero}\u001b[39m)\n\u001b[0m\u001b[90m   @\u001b[39m \u001b[32mVectorInterface\u001b[39m \u001b[90m~/.julia/packages/VectorInterface/SbpIu/src/\u001b[39m\u001b[90m\u001b[4monezero.jl:61\u001b[24m\u001b[39m\n\u001b[0m  ...\n",
     "output_type": "error",
     "traceback": [
      "MethodError: no method matching one(::Type{Any})\n\n\u001b[0mClosest candidates are:\n\u001b[0m  one(::Type{Union{Missing, T}}) where T\n\u001b[0m\u001b[90m   @\u001b[39m \u001b[90mBase\u001b[39m \u001b[90m\u001b[4mmissing.jl:105\u001b[24m\u001b[39m\n\u001b[0m  one(\u001b[91m::Type{Union{}}\u001b[39m, Any...)\n\u001b[0m\u001b[90m   @\u001b[39m \u001b[90mBase\u001b[39m \u001b[90m\u001b[4mnumber.jl:349\u001b[24m\u001b[39m\n\u001b[0m  one(\u001b[91m::Type{VectorInterface.Zero}\u001b[39m)\n\u001b[0m\u001b[90m   @\u001b[39m \u001b[32mVectorInterface\u001b[39m \u001b[90m~/.julia/packages/VectorInterface/SbpIu/src/\u001b[39m\u001b[90m\u001b[4monezero.jl:61\u001b[24m\u001b[39m\n\u001b[0m  ...\n",
      "",
      "Stacktrace:",
      " [1] one(::Type{Any})",
      "   @ Base ./missing.jl:106",
      " [2] Adivtype(A::ObsConstraintSystem, b::Vector{Float64})",
      "   @ IterativeSolvers ~/.julia/packages/IterativeSolvers/bjiMt/src/common.jl:11",
      " [3] zerox(A::ObsConstraintSystem, b::Vector{Float64})",
      "   @ IterativeSolvers ~/.julia/packages/IterativeSolvers/bjiMt/src/common.jl:19",
      " [4] cg(A::ObsConstraintSystem, b::Vector{Float64}; kwargs::@Kwargs{})",
      "   @ IterativeSolvers ~/.julia/packages/IterativeSolvers/bjiMt/src/cg.jl:162",
      " [5] top-level scope",
      "   @ In[21]:1"
     ]
    }
   ],
   "source": [
    "cg(sys, out)#; kwargs...)"
   ]
  },
  {
   "cell_type": "code",
   "execution_count": 168,
   "id": "3db6dd5a",
   "metadata": {},
   "outputs": [
    {
     "name": "stdout",
     "output_type": "stream",
     "text": [
      "  0.003500 seconds (27 allocations: 99.125 KiB)\n"
     ]
    },
    {
     "data": {
      "text/plain": [
       "([0.0, 0.0, 0.0, 0.0, 0.0, 0.0, 0.0, 0.0, 0.0, 0.0  …  0.0, 0.0, 0.0, 0.0, 0.0, 0.0, 0.0, 0.0, 0.0, 0.0], [0.0, 0.0, 0.0, 0.0, 0.0, 0.0, 0.0, 0.0, 0.0, 0.0  …  0.0, 0.0, 0.0, 0.0, 0.0, 0.0, 0.0, 0.0, 0.0, 0.0])"
      ]
     },
     "execution_count": 168,
     "metadata": {},
     "output_type": "execute_result"
    }
   ],
   "source": [
    "@time sys*sys.cache_ys"
   ]
  },
  {
   "cell_type": "code",
   "execution_count": 169,
   "id": "6547698e",
   "metadata": {},
   "outputs": [
    {
     "data": {
      "text/plain": [
       "([-1.4912098373553593, -0.2696104357662594, -0.2819347358855617, -0.9262086429757528, -0.09327565596068517, -0.6668734492901138, 1.0682551176108892, 1.0777069312854481, 0.4412579081116321, -0.21110797458569552  …  -0.6510007312086454, 0.7220190726797509, -0.11826292472610035, -0.2653069400392199, -0.3470333560764768, 0.3618988615678917, 1.3069007252501534, -1.0194002780840985, 1.0771860447867967, -0.5358711266189985], [-1.7378561251076985, -1.0247757520788754, 1.4047705495057632, -1.5175879882532095, 0.46229045727226503, 0.6802336513287508, -0.6591789525751265, 0.24354259697489275, -1.1488366669430128, -0.5908398873887823  …  -1.3416785998380587, -1.1251635481836217, -1.4268126186755874, 0.5676322931432145, -0.3679173613958417, 0.9782502248645302, 0.8061450475927457, -1.1969543438203631, -0.895288773532817, -1.043502772988509])"
      ]
     },
     "execution_count": 169,
     "metadata": {},
     "output_type": "execute_result"
    }
   ],
   "source": [
    "test = ObsConstraintVector(randn(Ny), randn(Ns))"
   ]
  },
  {
   "cell_type": "code",
   "execution_count": null,
   "id": "fefd2f69",
   "metadata": {},
   "outputs": [],
   "source": []
  },
  {
   "cell_type": "code",
   "execution_count": null,
   "id": "2e8a010f",
   "metadata": {},
   "outputs": [],
   "source": []
  },
  {
   "cell_type": "code",
   "execution_count": 43,
   "id": "a201a52b",
   "metadata": {},
   "outputs": [
    {
     "name": "stdout",
     "output_type": "stream",
     "text": [
      "\n",
      "████████╗██████╗ ██╗██╗  ██╗██╗\n",
      "╚══██╔══╝██╔══██╗██║╚██╗██╔╝██║\n",
      "   ██║   ██████╔╝██║ ╚███╔╝ ██║\n",
      "   ██║   ██╔══██╗██║ ██╔██╗ ██║\n",
      "   ██║   ██║  ██║██║██╔╝ ██╗██║\n",
      "   ╚═╝   ╚═╝  ╚═╝╚═╝╚═╝  ╚═╝╚═╝\n",
      "\n",
      "┌──────────────────────────────────────────────────────────────────────────────────────────────────┐\n",
      "│ SemidiscretizationHyperbolic                                                                     │\n",
      "│ ════════════════════════════                                                                     │\n",
      "│ #spatial dimensions: ………………………… 1                                                                │\n",
      "│ mesh: ………………………………………………………………… Trixi.Affine DGMultiMesh with NDIMS = 1.                         │\n",
      "│ equations: …………………………………………………… LinearScalarAdvectionEquation1D                                  │\n",
      "│ initial condition: ……………………………… initial_condition_convergence_test                               │\n",
      "│ boundary conditions: ………………………… Trixi.BoundaryConditionPeriodic                                  │\n",
      "│ source terms: …………………………………………… nothing                                                          │\n",
      "│ solver: …………………………………………………………… DG                                                               │\n",
      "│ total #DOFs per field: …………………… 128                                                              │\n",
      "└──────────────────────────────────────────────────────────────────────────────────────────────────┘\n",
      "\n",
      "┌──────────────────────────────────────────────────────────────────────────────────────────────────┐\n",
      "│ DGMultiMesh{1, Trixi.Affine},                                                                    │\n",
      "│ ══════════════════════════════                                                                   │\n",
      "│ number of elements: …………………………… 32                                                               │\n",
      "│ number of boundaries: ……………………… 1                                                                │\n",
      "│ │ nfaces on entire_boundary: …… 0                                                                │\n",
      "└──────────────────────────────────────────────────────────────────────────────────────────────────┘\n",
      "\n",
      "┌──────────────────────────────────────────────────────────────────────────────────────────────────┐\n",
      "│ LinearScalarAdvectionEquation1D                                                                  │\n",
      "│ ═══════════════════════════════                                                                  │\n",
      "│ #variables: ………………………………………………… 1                                                                │\n",
      "│ │ variable 1: …………………………………………… scalar                                                           │\n",
      "└──────────────────────────────────────────────────────────────────────────────────────────────────┘\n",
      "\n",
      "┌──────────────────────────────────────────────────────────────────────────────────────────────────┐\n",
      "│ DG{Float64}                                                                                      │\n",
      "│ ═══════════                                                                                      │\n",
      "│ basis: ……………………………………………………………… RefElemData{N=3, Polynomial{Gauss}, Line}.                       │\n",
      "│ mortar: …………………………………………………………… nothing                                                          │\n",
      "│ surface integral: ………………………………… SurfaceIntegralWeakForm                                          │\n",
      "│ │ surface flux: ……………………………………… FluxLaxFriedrichs(max_abs_speed_naive)                           │\n",
      "│ volume integral: …………………………………… VolumeIntegralWeakForm                                           │\n",
      "└──────────────────────────────────────────────────────────────────────────────────────────────────┘\n",
      "\n",
      "┌──────────────────────────────────────────────────────────────────────────────────────────────────┐\n",
      "│ AnalysisCallback                                                                                 │\n",
      "│ ════════════════                                                                                 │\n",
      "│ interval: ……………………………………………………… 100                                                              │\n",
      "│ analyzer: ……………………………………………………… RefElemData{N=3, Polynomial{Gauss}, Line}.                       │\n",
      "│ │ error 1: …………………………………………………… l2_error                                                         │\n",
      "│ │ error 2: …………………………………………………… linf_error                                                       │\n",
      "│ │ integral 1: …………………………………………… entropy_timederivative                                           │\n",
      "│ save analysis to file: …………………… no                                                               │\n",
      "└──────────────────────────────────────────────────────────────────────────────────────────────────┘\n",
      "\n",
      "┌──────────────────────────────────────────────────────────────────────────────────────────────────┐\n",
      "│ StepsizeCallback                                                                                 │\n",
      "│ ════════════════                                                                                 │\n",
      "│ CFL number: ………………………………………………… 0.75                                                             │\n",
      "└──────────────────────────────────────────────────────────────────────────────────────────────────┘\n",
      "\n",
      "┌──────────────────────────────────────────────────────────────────────────────────────────────────┐\n",
      "│ Time integration                                                                                 │\n",
      "│ ════════════════                                                                                 │\n",
      "│ Start time: ………………………………………………… 0.0                                                              │\n",
      "│ Final time: ………………………………………………… 2.0                                                              │\n",
      "│ time integrator: …………………………………… CarpenterKennedy2N54                                             │\n",
      "│ adaptive: ……………………………………………………… false                                                            │\n",
      "└──────────────────────────────────────────────────────────────────────────────────────────────────┘\n",
      "┌──────────────────────────────────────────────────────────────────────────────────────────────────┐\n",
      "│ Environment information                                                                          │\n",
      "│ ═══════════════════════                                                                          │\n",
      "│ #threads: ……………………………………………………… 1                                                                │\n",
      "└──────────────────────────────────────────────────────────────────────────────────────────────────┘\n",
      "\n",
      "────────────────────────────────────────────────────────────────────────────────────────────────────\n",
      " Simulation running 'LinearScalarAdvectionEquation1D' with DGMulti(polydeg=3)\n",
      "────────────────────────────────────────────────────────────────────────────────────────────────────\n",
      " #timesteps:                  0                run time:       4.29100000e-06 s\n",
      " Δt:             1.00000000e+00                └── GC time:    0.00000000e+00 s (0.000%)\n",
      " sim. time:      0.00000000e+00 (0.000%)       time/DOF/rhs!:         NaN s\n",
      "                                               PID:                   Inf s\n",
      " #DOFs per field:           128                alloc'd memory:        377.268 MiB\n",
      " #elements:                  32\n",
      "\n",
      " Variable:       scalar        \n",
      " L2 error:       1.90016554e-16\n",
      " Linf error:     6.66133815e-16\n",
      " ∑∂S/∂U ⋅ Uₜ :  -2.04003481e-14\n",
      "────────────────────────────────────────────────────────────────────────────────────────────────────\n",
      "\n",
      "\n",
      "────────────────────────────────────────────────────────────────────────────────────────────────────\n",
      " Simulation running 'LinearScalarAdvectionEquation1D' with DGMulti(polydeg=3)\n",
      "────────────────────────────────────────────────────────────────────────────────────────────────────\n",
      " #timesteps:                100                run time:       4.95354100e-03 s\n",
      " Δt:             1.17187500e-02                └── GC time:    0.00000000e+00 s (0.000%)\n",
      " sim. time:      1.17187500e+00 (58.594%)      time/DOF/rhs!:  1.20727559e-08 s\n",
      "                                               PID:            1.61805296e-08 s\n",
      " #DOFs per field:           128                alloc'd memory:        377.357 MiB\n",
      " #elements:                  32\n",
      "\n",
      " Variable:       scalar        \n",
      " L2 error:       1.18511294e-07\n",
      " Linf error:     1.82873826e-07\n",
      " ∑∂S/∂U ⋅ Uₜ :  -6.23432556e-12\n",
      "────────────────────────────────────────────────────────────────────────────────────────────────────\n",
      "\n",
      "\n",
      "────────────────────────────────────────────────────────────────────────────────────────────────────\n",
      " Simulation running 'LinearScalarAdvectionEquation1D' with DGMulti(polydeg=3)\n",
      "────────────────────────────────────────────────────────────────────────────────────────────────────\n",
      " #timesteps:                171                run time:       6.47945800e-03 s\n",
      " Δt:             7.81250000e-03                └── GC time:    0.00000000e+00 s (0.000%)\n",
      " sim. time:      2.00000000e+00 (100.000%)     time/DOF/rhs!:  1.11593004e-08 s\n",
      "                                               PID:            1.51426717e-08 s\n",
      " #DOFs per field:           128                alloc'd memory:        377.379 MiB\n",
      " #elements:                  32\n",
      "\n",
      " Variable:       scalar        \n",
      " L2 error:       1.19013086e-07\n",
      " Linf error:     1.84025792e-07\n",
      " ∑∂S/∂U ⋅ Uₜ :  -6.23553292e-12\n",
      "────────────────────────────────────────────────────────────────────────────────────────────────────\n",
      "\n",
      "\u001b[0m\u001b[1m ────────────────────────────────────────────────────────────────────────────────\u001b[22m\n",
      "\u001b[0m\u001b[1m            Trixi.jl           \u001b[22m         Time                    Allocations      \n",
      "                               ───────────────────────   ────────────────────────\n",
      "       Tot / % measured:           27.3ms /  97.7%            148KiB /  94.0%    \n",
      "\n",
      " Section               ncalls     time    %tot     avg     alloc    %tot      avg\n",
      " ────────────────────────────────────────────────────────────────────────────────\n",
      " analyze solution           3   25.4ms   95.2%  8.46ms    133KiB   95.8%  44.5KiB\n",
      " rhs!                     856   1.18ms    4.4%  1.38μs   5.88KiB    4.2%    7.03B\n",
      "   volume integral        856    495μs    1.9%   579ns     0.00B    0.0%    0.00B\n",
      "   ~rhs!~                 856    317μs    1.2%   370ns   5.88KiB    4.2%    7.03B\n",
      "   interface flux         856    141μs    0.5%   164ns     0.00B    0.0%    0.00B\n",
      "   prolong2interfaces     856   69.9μs    0.3%  81.7ns     0.00B    0.0%    0.00B\n",
      "   surface integral       856   64.8μs    0.2%  75.7ns     0.00B    0.0%    0.00B\n",
      "   Jacobian               856   50.0μs    0.2%  58.5ns     0.00B    0.0%    0.00B\n",
      "   reset ∂u/∂t            856   21.5μs    0.1%  25.1ns     0.00B    0.0%    0.00B\n",
      "   source terms           856   9.67μs    0.0%  11.3ns     0.00B    0.0%    0.00B\n",
      "   boundary flux          856   9.67μs    0.0%  11.3ns     0.00B    0.0%    0.00B\n",
      " calculate dt             172    112μs    0.4%   653ns     0.00B    0.0%    0.00B\n",
      "\u001b[0m\u001b[1m ────────────────────────────────────────────────────────────────────────────────\u001b[22m\n",
      "\n"
     ]
    }
   ],
   "source": [
    "advection_velocity = 1.0\n",
    "equations = LinearScalarAdvectionEquation1D(advection_velocity)\n",
    "\n",
    "###############################################################################\n",
    "#  setup the GSBP DG discretization that uses the Gauss operators from Chan et al.\n",
    "\n",
    "surface_flux = FluxLaxFriedrichs()\n",
    "# surface_flux = flux_lax_friedrichs\n",
    "\n",
    "# volume_integral = VolumeIntegralShockCapturingHG(indicator_sc;\n",
    "#                                                  volume_flux_dg = surface_flux,\n",
    "#                                                  volume_flux_fv = surface_flux)\n",
    "dg = DGMulti(polydeg = 3,\n",
    "             element_type = Line(),\n",
    "             approximation_type = GaussSBP(),\n",
    "             surface_integral = SurfaceIntegralWeakForm(surface_flux),\n",
    "             volume_integral = VolumeIntegralWeakForm())\n",
    "\n",
    "###############################################################################\n",
    "#  setup the 1D mesh\n",
    "\n",
    "cells_per_dimension = (32,)\n",
    "mesh = DGMultiMesh(dg, cells_per_dimension,\n",
    "                   coordinates_min = (-1.0,), coordinates_max = (1.0,),\n",
    "                   periodicity = true)\n",
    "\n",
    "###############################################################################\n",
    "#  setup the semidiscretization and ODE problem\n",
    "\n",
    "semi = SemidiscretizationHyperbolic(mesh,\n",
    "                                    equations,\n",
    "                                    initial_condition_convergence_test,\n",
    "                                    dg)\n",
    "\n",
    "tspan = (0.0, 2.0)\n",
    "ode = semidiscretize(semi, tspan)\n",
    "\n",
    "###############################################################################\n",
    "#  setup the callbacks\n",
    "\n",
    "# prints a summary of the simulation setup and resets the timers\n",
    "summary_callback = SummaryCallback()\n",
    "\n",
    "# analyse the solution in regular intervals and prints the results\n",
    "analysis_callback = AnalysisCallback(semi, interval = 100, uEltype = real(dg))\n",
    "\n",
    "# handles the re-calculation of the maximum Δt after each time step\n",
    "stepsize_callback = StepsizeCallback(cfl = 0.75)\n",
    "\n",
    "# collect all callbacks such that they can be passed to the ODE solver\n",
    "callbacks = CallbackSet(summary_callback, analysis_callback, stepsize_callback)\n",
    "\n",
    "###############################################################################\n",
    "# run the simulation\n",
    "\n",
    "sol = solve(ode, CarpenterKennedy2N54(williamson_condition = false),\n",
    "            dt = 1.0, save_everystep = false, callback = callbacks);\n",
    "\n",
    "# Print the timer summary\n",
    "summary_callback()"
   ]
  },
  {
   "cell_type": "code",
   "execution_count": 22,
   "id": "346af2ce",
   "metadata": {},
   "outputs": [
    {
     "data": {
      "text/plain": [
       "([2.51269703e-314, 2.251527859e-314, 2.5126970856e-314, 2.403145989e-314, 2.5704343796e-314, 2.163125329e-314, 1.56416e-319, NaN, 5.0e-324, 2.234869295e-314], [3.5e-323, 5.0e-323, 5.4e-323, 6.4e-323, 7.4e-323, 8.0e-323, 1.14e-322, 1.2e-322, 1.24e-322, 1.33e-322])"
      ]
     },
     "execution_count": 22,
     "metadata": {},
     "output_type": "execute_result"
    }
   ],
   "source": [
    "similar(ObsConstraintVector(rand(10), rand(10)))"
   ]
  },
  {
   "cell_type": "code",
   "execution_count": null,
   "id": "57f35e70",
   "metadata": {},
   "outputs": [],
   "source": [
    "struct SaddleSystem{T,Ns,Nc,TU,TF,TS<:SchurSolverType}\n",
    "    A :: LinearMap{T}\n",
    "    B₂ :: LinearMap{T}\n",
    "    B₁ᵀ :: LinearMap{T}\n",
    "    C :: LinearMap{T}\n",
    "    A⁻¹ :: LinearMap{T}\n",
    "    C⁻¹ :: LinearMap{T}\n",
    "    A⁻¹B₁ᵀf :: Vector{T}\n",
    "    B₂A⁻¹r₁ :: Vector{T}\n",
    "    _f_buf :: Vector{T}\n",
    "    _u_buf :: Vector{T}\n",
    "    P :: LinearMap{T}\n",
    "    S :: LinearMap{T}\n",
    "    S⁻¹ :: LinearMap{T}\n",
    "end"
   ]
  },
  {
   "cell_type": "code",
   "execution_count": 11,
   "id": "38c6a6ef",
   "metadata": {},
   "outputs": [
    {
     "data": {
      "text/plain": [
       "64×128 LinearMaps.FunctionMap{Float64,false}(h; issymmetric=false, ishermitian=false, isposdef=false)"
      ]
     },
     "execution_count": 11,
     "metadata": {},
     "output_type": "execute_result"
    }
   ],
   "source": [
    "h(x) = x[1:2:end]\n",
    "\n",
    "H = LinearMap(h, 64, 128; issymmetric = false, ismutating = false)"
   ]
  },
  {
   "cell_type": "code",
   "execution_count": 10,
   "id": "e6305275",
   "metadata": {},
   "outputs": [
    {
     "ename": "LoadError",
     "evalue": "UndefVarError: `PA` not defined",
     "output_type": "error",
     "traceback": [
      "UndefVarError: `PA` not defined",
      "",
      "Stacktrace:",
      " [1] top-level scope",
      "   @ In[10]:1"
     ]
    }
   ],
   "source": [
    "S = LinearMap(PA)"
   ]
  },
  {
   "cell_type": "code",
   "execution_count": 8,
   "id": "aa3fd151",
   "metadata": {},
   "outputs": [
    {
     "name": "stderr",
     "output_type": "stream",
     "text": [
      "\u001b[91m\u001b[1m┌ \u001b[22m\u001b[39m\u001b[91m\u001b[1mError: \u001b[22m\u001b[39mFailed to revise /Users/mathieu/Documents/HierarchicalDA.jl/src/PA/PA.jl\n",
      "\u001b[91m\u001b[1m│ \u001b[22m\u001b[39m  exception =\n",
      "\u001b[91m\u001b[1m│ \u001b[22m\u001b[39m   UndefVarError: `T` not defined\n",
      "\u001b[91m\u001b[1m│ \u001b[22m\u001b[39m   Stacktrace:\n",
      "\u001b[91m\u001b[1m│ \u001b[22m\u001b[39m    [1] top-level scope\n",
      "\u001b[91m\u001b[1m│ \u001b[22m\u001b[39m   \u001b[90m   @\u001b[39m \u001b[90m~/Documents/HierarchicalDA.jl/src/PA/\u001b[39m\u001b[90m\u001b[4mPA.jl:5\u001b[24m\u001b[39m\n",
      "\u001b[91m\u001b[1m│ \u001b[22m\u001b[39m   Revise evaluation error at /Users/mathieu/Documents/HierarchicalDA.jl/src/PA/PA.jl:5\n",
      "\u001b[91m\u001b[1m│ \u001b[22m\u001b[39m   \n",
      "\u001b[91m\u001b[1m└ \u001b[22m\u001b[39m\u001b[90m@ Revise ~/.julia/packages/Revise/bAgL0/src/packagedef.jl:722\u001b[39m\n"
     ]
    },
    {
     "ename": "LoadError",
     "evalue": "UndefVarError: `S` not defined",
     "output_type": "error",
     "traceback": [
      "UndefVarError: `S` not defined",
      "",
      "Stacktrace:",
      " [1] top-level scope",
      "   @ In[8]:1"
     ]
    }
   ],
   "source": [
    "typeof(S) <: LinearMap"
   ]
  },
  {
   "cell_type": "code",
   "execution_count": 27,
   "id": "8f5fc0ff",
   "metadata": {},
   "outputs": [
    {
     "data": {
      "text/plain": [
       "10-element Vector{Float64}:\n",
       " 0.3162766737950068\n",
       " 0.5041365888007923\n",
       " 0.18470922422961966\n",
       " 0.4500511821091693\n",
       " 0.8278905145471707\n",
       " 0.25922028745628234\n",
       " 0.8839570719864376\n",
       " 0.721052864718504\n",
       " 0.05312059449673312\n",
       " 0.9027981226142374"
      ]
     },
     "execution_count": 27,
     "metadata": {},
     "output_type": "execute_result"
    }
   ],
   "source": [
    "function strangmul!(C, B)\n",
    "    C[1] = -2B[1] + B[2]\n",
    "    for i in 2:length(B)-1\n",
    "        C[i] = B[i-1] - 2B[i] + B[i+1]\n",
    "    end\n",
    "    C[end] = B[end-1] - 2B[end]\n",
    "    return C\n",
    "end\n",
    "using LinearMaps\n",
    "A = LinearMap(strangmul!, 10; issymmetric=true, ismutating=true)\n",
    "b = rand(10)\n",
    "\n",
    "# using IterativeSolvers, LinearAlgebra\n",
    "# U = gmres(A, b)\n",
    "# norm(A*U - b)"
   ]
  },
  {
   "cell_type": "code",
   "execution_count": null,
   "id": "2b9ed0bb",
   "metadata": {},
   "outputs": [],
   "source": [
    "function mul!()"
   ]
  },
  {
   "cell_type": "code",
   "execution_count": 29,
   "id": "5e5d9ba7",
   "metadata": {},
   "outputs": [
    {
     "data": {
      "text/plain": [
       "10-element Vector{Float64}:\n",
       " -0.12841675878922132\n",
       " -0.5072872795769581\n",
       "  0.5847693224507222\n",
       "  0.11249737455845177\n",
       " -0.9465095595288897\n",
       "  1.1934070116210436\n",
       " -0.7876409917980888\n",
       " -0.5050280629538374\n",
       "  1.5176097983392753\n",
       " -1.7524756507317418"
      ]
     },
     "execution_count": 29,
     "metadata": {},
     "output_type": "execute_result"
    }
   ],
   "source": [
    "A*b"
   ]
  },
  {
   "cell_type": "code",
   "execution_count": 52,
   "id": "67e78ed0",
   "metadata": {},
   "outputs": [
    {
     "data": {
      "text/plain": [
       "([0.6518576029459328, 0.12515364720407862, 0.9238993155287828, 0.8336727566370029, 0.8584140316519395, 0.03024335269907119, 0.27941151429392697, 0.31146345765012906, 0.1240761192610329, 0.9594262137061715], [0.5009423878888452, 0.6371528448313901, 0.18255707907483432, 0.9381207354254828, 0.7588264695937327])"
      ]
     },
     "execution_count": 52,
     "metadata": {},
     "output_type": "execute_result"
    }
   ],
   "source": [
    "u = ArrayPartition(rand(10), rand(5))"
   ]
  },
  {
   "cell_type": "code",
   "execution_count": 55,
   "id": "c1d33c81",
   "metadata": {},
   "outputs": [
    {
     "name": "stderr",
     "output_type": "stream",
     "text": [
      "\u001b[91m\u001b[1m┌ \u001b[22m\u001b[39m\u001b[91m\u001b[1mError: \u001b[22m\u001b[39mFailed to revise /Users/mathieu/Documents/HierarchicalDA.jl/src/HierarchicalDA.jl\n",
      "\u001b[91m\u001b[1m│ \u001b[22m\u001b[39m  exception =\n",
      "\u001b[91m\u001b[1m│ \u001b[22m\u001b[39m   ArgumentError: invalid type for argument u in method definition for observation at /Users/mathieu/Documents/HierarchicalDA.jl/src/update_x/vectors.jl:6\n",
      "\u001b[91m\u001b[1m│ \u001b[22m\u001b[39m   Stacktrace:\n",
      "\u001b[91m\u001b[1m│ \u001b[22m\u001b[39m    [1] top-level scope\n",
      "\u001b[91m\u001b[1m│ \u001b[22m\u001b[39m   \u001b[90m   @\u001b[39m \u001b[90m~/Documents/HierarchicalDA.jl/src/update_x/\u001b[39m\u001b[90m\u001b[4mvectors.jl:6\u001b[24m\u001b[39m\n",
      "\u001b[91m\u001b[1m│ \u001b[22m\u001b[39m   Revise evaluation error at /Users/mathieu/Documents/HierarchicalDA.jl/src/update_x/vectors.jl:6\n",
      "\u001b[91m\u001b[1m│ \u001b[22m\u001b[39m   \n",
      "\u001b[91m\u001b[1m└ \u001b[22m\u001b[39m\u001b[90m@ Revise ~/.julia/packages/Revise/bAgL0/src/packagedef.jl:722\u001b[39m\n"
     ]
    },
    {
     "data": {
      "text/plain": [
       "([-1.2570173555617543, 0.5202494107448322, 0.16316563288261268, -1.0681720422506906, -0.3654495844240316, 0.3467889610300921, -1.5870616935753792, -0.7323214461925134, 1.2861224755649558, 1.58502014555896], [0.37403391667364905, 0.7190441095726915, 0.5819910537757993, 0.5657090473553854, 0.7316718658539454])"
      ]
     },
     "execution_count": 55,
     "metadata": {},
     "output_type": "execute_result"
    }
   ],
   "source": [
    "ObsConstraintVector(randn(10), rand(5))"
   ]
  },
  {
   "cell_type": "code",
   "execution_count": 54,
   "id": "8c1e3e50",
   "metadata": {},
   "outputs": [
    {
     "data": {
      "text/plain": [
       "([0.6518576029459328, 0.12515364720407862, 0.9238993155287828, 0.8336727566370029, 0.8584140316519395, 0.03024335269907119, 0.27941151429392697, 0.31146345765012906, 0.1240761192610329, 0.9594262137061715], [0.5009423878888452, 0.6371528448313901, 0.18255707907483432, 0.9381207354254828, 0.7588264695937327])"
      ]
     },
     "execution_count": 54,
     "metadata": {},
     "output_type": "execute_result"
    }
   ],
   "source": [
    "u.x"
   ]
  },
  {
   "cell_type": "code",
   "execution_count": null,
   "id": "b5d1b56e",
   "metadata": {},
   "outputs": [],
   "source": []
  }
 ],
 "metadata": {
  "kernelspec": {
   "display_name": "Julia 1.10.0",
   "language": "julia",
   "name": "julia-1.10"
  },
  "language_info": {
   "file_extension": ".jl",
   "mimetype": "application/julia",
   "name": "julia",
   "version": "1.10.0"
  }
 },
 "nbformat": 4,
 "nbformat_minor": 5
}
