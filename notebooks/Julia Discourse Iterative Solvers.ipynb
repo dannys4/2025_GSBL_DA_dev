{
 "cells": [
  {
   "cell_type": "code",
   "execution_count": 7,
   "id": "7b7aacc5",
   "metadata": {},
   "outputs": [],
   "source": [
    "using LinearAlgebra\n",
    "using HierarchicalDA\n",
    "using PDMats\n",
    "using LinearMaps\n",
    "using SparseArrays\n",
    "using UnPack\n",
    "import Base: *, size\n",
    "using IterativeSolvers\n",
    "using Preconditioners"
   ]
  },
  {
   "cell_type": "code",
   "execution_count": 2,
   "id": "eb205835",
   "metadata": {},
   "outputs": [
    {
     "data": {
      "text/plain": [
       "80"
      ]
     },
     "execution_count": 2,
     "metadata": {},
     "output_type": "execute_result"
    }
   ],
   "source": [
    "Nx = 100\n",
    "Ny = 50\n",
    "Ns = 80"
   ]
  },
  {
   "cell_type": "code",
   "execution_count": 3,
   "id": "c4f1e7c5",
   "metadata": {},
   "outputs": [
    {
     "ename": "LoadError",
     "evalue": "UndefVarError: `PA` not defined",
     "output_type": "error",
     "traceback": [
      "UndefVarError: `PA` not defined",
      "",
      "Stacktrace:",
      " [1] top-level scope",
      "   @ In[3]:5"
     ]
    }
   ],
   "source": [
    "H = LinearMap(randn(Ny, Nx))\n",
    "Σϵ = LinearMap(PDiagMat(0.1 .+ rand(Ny)))\n",
    "Dθ = LinearMap(PDiagMat(0.1 .+ rand(Ns)))\n",
    "Σx = LinearMap(PDMat((x->x*x')(0.1*randn(Nx, Nx))+ 1.0*I))\n",
    "S = LinearMap(PolyAnnil)"
   ]
  },
  {
   "cell_type": "code",
   "execution_count": 5,
   "id": "4df123a0",
   "metadata": {},
   "outputs": [
    {
     "ename": "LoadError",
     "evalue": "UndefVarError: `S` not defined",
     "output_type": "error",
     "traceback": [
      "UndefVarError: `S` not defined",
      "",
      "Stacktrace:",
      " [1] top-level scope",
      "   @ In[5]:1"
     ]
    }
   ],
   "source": [
    "sys = ObsConstraintSystem(H, S, Dθ, Σϵ, Σx)"
   ]
  },
  {
   "cell_type": "code",
   "execution_count": 6,
   "id": "8a4b6517",
   "metadata": {},
   "outputs": [
    {
     "ename": "LoadError",
     "evalue": "UndefVarError: `sys` not defined",
     "output_type": "error",
     "traceback": [
      "UndefVarError: `sys` not defined",
      "",
      "Stacktrace:",
      " [1] top-level scope",
      "   @ ./In[6]:6"
     ]
    }
   ],
   "source": [
    "sys_mat = zeros(Ny+Ns, Ny+Ns)\n",
    "\n",
    "for i=1:Ny+Ns\n",
    "    ei = zeros(Ny+Ns)\n",
    "    ei[i] = 1.0\n",
    "    sys_mat[:,i] = sys*ei\n",
    "end"
   ]
  },
  {
   "cell_type": "code",
   "execution_count": 12,
   "id": "fb8693b5",
   "metadata": {},
   "outputs": [
    {
     "data": {
      "text/plain": [
       "false"
      ]
     },
     "execution_count": 12,
     "metadata": {},
     "output_type": "execute_result"
    }
   ],
   "source": [
    "isposdef(Symmetric(sys_mat))"
   ]
  },
  {
   "cell_type": "code",
   "execution_count": null,
   "id": "a3c1a7ca",
   "metadata": {},
   "outputs": [],
   "source": [
    "sys.C"
   ]
  },
  {
   "cell_type": "code",
   "execution_count": 165,
   "id": "a3e4d1d8",
   "metadata": {},
   "outputs": [
    {
     "name": "stdout",
     "output_type": "stream",
     "text": [
      "  0.005109 seconds (3.49 k allocations: 264.586 KiB, 92.30% compilation time)\n"
     ]
    },
    {
     "data": {
      "text/plain": [
       "130×130 FunctionMap{Float64,false}(#63; issymmetric=true, ishermitian=true, isposdef=true)"
      ]
     },
     "execution_count": 165,
     "metadata": {},
     "output_type": "execute_result"
    }
   ],
   "source": [
    "@time sys_op = FunctionMap{Float64,false}(x->sys*x, Ny+Ns; issymmetric=true, isposdef=true)"
   ]
  },
  {
   "cell_type": "code",
   "execution_count": 6,
   "id": "eee9cf96",
   "metadata": {},
   "outputs": [
    {
     "name": "stdout",
     "output_type": "stream",
     "text": [
      "  0.008216 seconds (14.28 k allocations: 1005.227 KiB, 92.18% compilation time)\n"
     ]
    },
    {
     "data": {
      "text/plain": [
       "130×130 FunctionMap{Float64,true}(#3; issymmetric=true, ishermitian=true, isposdef=true)"
      ]
     },
     "execution_count": 6,
     "metadata": {},
     "output_type": "execute_result"
    }
   ],
   "source": [
    "@time sys_op = FunctionMap{Float64,true}((y,x)->mul!(y, sys, x), Ny+Ns; issymmetric=true, isposdef=true)"
   ]
  },
  {
   "cell_type": "code",
   "execution_count": 7,
   "id": "f77cecf8",
   "metadata": {},
   "outputs": [],
   "source": [
    "test = randn(Ny+Ns);\n",
    "# test = ObsConstraintVector(randn(Ny), randn(Ns))"
   ]
  },
  {
   "cell_type": "code",
   "execution_count": 9,
   "id": "f2cd784b",
   "metadata": {},
   "outputs": [
    {
     "ename": "LoadError",
     "evalue": "UndefVarError: `Ny` not defined",
     "output_type": "error",
     "traceback": [
      "UndefVarError: `Ny` not defined",
      "",
      "Stacktrace:",
      " [1] mul!(output::Vector{Float64}, sys::ObsConstraintSystem, input::Vector{Float64})",
      "   @ HierarchicalDA ~/Documents/HierarchicalDA.jl/src/update_x/system.jl:62",
      " [2] *(sys::ObsConstraintSystem, input::Vector{Float64})",
      "   @ HierarchicalDA ~/Documents/HierarchicalDA.jl/src/update_x/system.jl:83",
      " [3] top-level scope",
      "   @ In[9]:1"
     ]
    }
   ],
   "source": [
    "sys*test"
   ]
  },
  {
   "cell_type": "code",
   "execution_count": 8,
   "id": "cf6fa8d0",
   "metadata": {},
   "outputs": [
    {
     "ename": "LoadError",
     "evalue": "MethodError: no method matching mul!(::Vector{Float64}, ::ObsConstraintSystem, ::Vector{Float64}, ::Bool, ::Bool)\n\n\u001b[0mClosest candidates are:\n\u001b[0m  mul!(\u001b[91m::ChainRulesCore.AbstractThunk\u001b[39m, ::Any, ::Any, ::Any, ::Any)\n\u001b[0m\u001b[90m   @\u001b[39m \u001b[36mChainRulesCore\u001b[39m \u001b[90m~/.julia/packages/ChainRulesCore/zgT0R/src/tangent_types/\u001b[39m\u001b[90m\u001b[4mthunks.jl:99\u001b[24m\u001b[39m\n\u001b[0m  mul!(::Any, \u001b[91m::ChainRulesCore.AbstractThunk\u001b[39m, ::Any, ::Any, ::Any)\n\u001b[0m\u001b[90m   @\u001b[39m \u001b[36mChainRulesCore\u001b[39m \u001b[90m~/.julia/packages/ChainRulesCore/zgT0R/src/tangent_types/\u001b[39m\u001b[90m\u001b[4mthunks.jl:109\u001b[24m\u001b[39m\n\u001b[0m  mul!(::Any, ::Any, \u001b[91m::ChainRulesCore.AbstractThunk\u001b[39m, ::Any, ::Any)\n\u001b[0m\u001b[90m   @\u001b[39m \u001b[36mChainRulesCore\u001b[39m \u001b[90m~/.julia/packages/ChainRulesCore/zgT0R/src/tangent_types/\u001b[39m\u001b[90m\u001b[4mthunks.jl:110\u001b[24m\u001b[39m\n\u001b[0m  ...\n",
     "output_type": "error",
     "traceback": [
      "MethodError: no method matching mul!(::Vector{Float64}, ::ObsConstraintSystem, ::Vector{Float64}, ::Bool, ::Bool)\n\n\u001b[0mClosest candidates are:\n\u001b[0m  mul!(\u001b[91m::ChainRulesCore.AbstractThunk\u001b[39m, ::Any, ::Any, ::Any, ::Any)\n\u001b[0m\u001b[90m   @\u001b[39m \u001b[36mChainRulesCore\u001b[39m \u001b[90m~/.julia/packages/ChainRulesCore/zgT0R/src/tangent_types/\u001b[39m\u001b[90m\u001b[4mthunks.jl:99\u001b[24m\u001b[39m\n\u001b[0m  mul!(::Any, \u001b[91m::ChainRulesCore.AbstractThunk\u001b[39m, ::Any, ::Any, ::Any)\n\u001b[0m\u001b[90m   @\u001b[39m \u001b[36mChainRulesCore\u001b[39m \u001b[90m~/.julia/packages/ChainRulesCore/zgT0R/src/tangent_types/\u001b[39m\u001b[90m\u001b[4mthunks.jl:109\u001b[24m\u001b[39m\n\u001b[0m  mul!(::Any, ::Any, \u001b[91m::ChainRulesCore.AbstractThunk\u001b[39m, ::Any, ::Any)\n\u001b[0m\u001b[90m   @\u001b[39m \u001b[36mChainRulesCore\u001b[39m \u001b[90m~/.julia/packages/ChainRulesCore/zgT0R/src/tangent_types/\u001b[39m\u001b[90m\u001b[4mthunks.jl:110\u001b[24m\u001b[39m\n\u001b[0m  ...\n",
      "",
      "Stacktrace:",
      "  [1] mul!(C::Vector{Float64}, A::ObsConstraintSystem, B::Vector{Float64})",
      "    @ LinearAlgebra /Applications/Julia-1.10.app/Contents/Resources/julia/share/julia/stdlib/v1.10/LinearAlgebra/src/matmul.jl:237",
      "  [2] (::var\"#3#4\")(y::Vector{Float64}, x::Vector{Float64})",
      "    @ Main ./In[6]:1",
      "  [3] _unsafe_mul!",
      "    @ ~/.julia/packages/LinearMaps/AWz3y/src/functionmap.jl:128 [inlined]",
      "  [4] mul!",
      "    @ ~/.julia/packages/LinearMaps/AWz3y/src/LinearMaps.jl:163 [inlined]",
      "  [5] iterate(it::CGIterable{FunctionMap{Float64, var\"#3#4\", Nothing, true}, Vector{Float64}, Vector{Float64}, Float64}, iteration::Int64)",
      "    @ IterativeSolvers ~/.julia/packages/IterativeSolvers/bjiMt/src/cg.jl:54",
      "  [6] iterate(it::CGIterable{FunctionMap{Float64, var\"#3#4\", Nothing, true}, Vector{Float64}, Vector{Float64}, Float64}, iteration::Int64)",
      "    @ IterativeSolvers ~/.julia/packages/IterativeSolvers/bjiMt/src/cg.jl:45 [inlined]",
      "  [7] iterate",
      "    @ ./iterators.jl:206 [inlined]",
      "  [8] iterate",
      "    @ ./iterators.jl:205 [inlined]",
      "  [9] cg!(x::Vector{Float64}, A::FunctionMap{Float64, var\"#3#4\", Nothing, true}, b::Vector{Float64}; abstol::Float64, reltol::Float64, maxiter::Int64, log::Bool, statevars::CGStateVariables{Float64, Vector{Float64}}, verbose::Bool, Pl::Identity, kwargs::@Kwargs{initially_zero::Bool})",
      "    @ IterativeSolvers ~/.julia/packages/IterativeSolvers/bjiMt/src/cg.jl:229",
      " [10] #cg#22",
      "    @ IterativeSolvers ~/.julia/packages/IterativeSolvers/bjiMt/src/cg.jl:162 [inlined]",
      " [11] macro expansion",
      "    @ ./timing.jl:279 [inlined]",
      " [12] top-level scope",
      "    @ ./In[8]:1"
     ]
    }
   ],
   "source": [
    "@time out = cg(sys_op, test; log = true)"
   ]
  },
  {
   "cell_type": "code",
   "execution_count": 185,
   "id": "f0fe6a0d",
   "metadata": {},
   "outputs": [
    {
     "data": {
      "text/plain": [
       "([0.0582400007442546, -0.06799136677872465, 0.006613694987607053, -0.3352344789037528, -0.16402890783652416, 0.12850517371105208, 0.023337062306841357, 0.014403122065477593, -0.11677822070149914, 0.06277727066535782  …  2.009235246908877, 1.4786102696103145, -0.8328221987627219, 0.03801512682955333, 0.45371557188236344, 0.6356738269348883, 0.4216776779055158, -0.6828494464585101, -0.7828993811851154, 0.566354519192026], Not converged after 130 iterations.)"
      ]
     },
     "execution_count": 185,
     "metadata": {},
     "output_type": "execute_result"
    }
   ],
   "source": [
    "out"
   ]
  },
  {
   "cell_type": "code",
   "execution_count": 186,
   "id": "7314046b",
   "metadata": {},
   "outputs": [
    {
     "data": {
      "text/plain": [
       "130-element Vector{Float64}:\n",
       "  0.05824002949404186\n",
       " -0.06799168280202558\n",
       "  0.0066136717717618036\n",
       " -0.3352343644979481\n",
       " -0.16402866048783005\n",
       "  0.12850497364039953\n",
       "  0.023336956305048964\n",
       "  0.01440234586566691\n",
       " -0.11677808608882748\n",
       "  0.06277802999915877\n",
       " -0.06085863311124671\n",
       " -0.07048781907857132\n",
       " -0.13426897835608492\n",
       "  ⋮\n",
       "  1.1544917332585987\n",
       " -0.4417753639837578\n",
       "  2.0092372311898767\n",
       "  1.4786078153832516\n",
       " -0.8328199367597025\n",
       "  0.03801327011871345\n",
       "  0.45371658589223357\n",
       "  0.6356749620625938\n",
       "  0.42168040597632656\n",
       " -0.6828496456881498\n",
       " -0.7828949829222106\n",
       "  0.5663548171127829"
      ]
     },
     "execution_count": 186,
     "metadata": {},
     "output_type": "execute_result"
    }
   ],
   "source": [
    "sys_mat\\test"
   ]
  },
  {
   "cell_type": "code",
   "execution_count": 188,
   "id": "1c9aa299",
   "metadata": {},
   "outputs": [
    {
     "data": {
      "text/plain": [
       "0.00012354750507119743"
      ]
     },
     "execution_count": 188,
     "metadata": {},
     "output_type": "execute_result"
    }
   ],
   "source": [
    "norm(sys_op*out[1] - test)#/norm(test)"
   ]
  },
  {
   "cell_type": "code",
   "execution_count": 137,
   "id": "b9bf7830",
   "metadata": {},
   "outputs": [
    {
     "data": {
      "text/plain": [
       "0.0003997692205328466"
      ]
     },
     "execution_count": 137,
     "metadata": {},
     "output_type": "execute_result"
    }
   ],
   "source": [
    "norm(sys_mat\\test - out[1])/norm(out[1])"
   ]
  },
  {
   "cell_type": "code",
   "execution_count": 25,
   "id": "53530fd6",
   "metadata": {},
   "outputs": [
    {
     "data": {
      "text/plain": [
       "130-element Vector{Float64}:\n",
       " -15871.169236804346\n",
       " -16270.609480762432\n",
       " -22583.124405459355\n",
       "   1318.7233179613522\n",
       " -28094.031818515818\n",
       "   1382.5274400607825\n",
       "  17143.18961157868\n",
       "   8817.683007503783\n",
       "  -4826.80048720641\n",
       "   8175.059155101545\n",
       "  26191.76750114389\n",
       "  16332.72991787982\n",
       "  44610.1172068557\n",
       "      ⋮\n",
       "     57.18127102022258\n",
       "   1386.8808866634008\n",
       "    -42.87407601831049\n",
       "     -4.112728766230939\n",
       "     -2.3470833893002867\n",
       "   -662.9513821313901\n",
       "    -37.0507273066059\n",
       "  -2228.2641578466164\n",
       "  -1577.6676769503188\n",
       "    209.35693207745408\n",
       "    -63.36499427714507\n",
       "    -45.76282215302213"
      ]
     },
     "execution_count": 25,
     "metadata": {},
     "output_type": "execute_result"
    }
   ],
   "source": [
    "sys*test"
   ]
  },
  {
   "cell_type": "code",
   "execution_count": null,
   "id": "b4825df7",
   "metadata": {},
   "outputs": [],
   "source": []
  }
 ],
 "metadata": {
  "kernelspec": {
   "display_name": "Julia 1.10.0",
   "language": "julia",
   "name": "julia-1.10"
  },
  "language_info": {
   "file_extension": ".jl",
   "mimetype": "application/julia",
   "name": "julia",
   "version": "1.10.0"
  }
 },
 "nbformat": 4,
 "nbformat_minor": 5
}
