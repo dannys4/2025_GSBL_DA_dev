{
 "cells": [
  {
   "cell_type": "markdown",
   "metadata": {},
   "source": [
    "# Benchmark linear advection with EnKF"
   ]
  },
  {
   "cell_type": "markdown",
   "metadata": {},
   "source": [
    "In this notebook, we are interested in the sequential inference \n",
    "\n",
    "\n",
    "\n",
    "References: \n",
    "\n",
    "\n",
    "[1] Evensen, G., 1994. Sequential data assimilation with a nonlinear quasi‐geostrophic model using Monte Carlo methods to forecast error statistics. Journal of Geophysical Research: Oceans, 99(C5), pp.10143-10162.\n",
    "\n",
    "[2] Asch, M., Bocquet, M. and Nodet, M., 2016. Data assimilation: methods, algorithms, and applications. Society for Industrial and Applied Mathematics.\n",
    "\n",
    "[3] Bishop, C.H., Etherton, B.J. and Majumdar, S.J., 2001. Adaptive sampling with the ensemble transform Kalman filter. Part I: Theoretical aspects. Monthly weather review, 129(3), pp.420-436. \n",
    "\n",
    "[4] Lorenz, E.N., 1963. Deterministic nonperiodic flow. Journal of atmospheric sciences, 20(2), pp.130-141.\n",
    "\n",
    "[5] Spantini, A., Baptista, R. and Marzouk, Y., 2019. Coupling techniques for nonlinear ensemble filtering. arXiv preprint arXiv:1907.00389."
   ]
  },
  {
   "cell_type": "markdown",
   "metadata": {},
   "source": [
    "### The basic steps\n",
    "To carry out sequential inference in `AdaptiveTransportMap`, we need to carry out a few basic steps:\n",
    "* **Specify the problem**: Define the state-space model: initial condition, dynamical and observation models (including process and observation noise)\n",
    "* **Specify the inflation parameters**: Determine the levels of covariance inflation to properly balance the dynamical system and the observations from the truth system\n",
    "* **Specify the filter**: Choose the ensemble filter to assimilate the observations in the state estimate\n",
    "* **Perform the sequential inference**: Perform the sequential inference\n",
    "\n",
    "We will go through all of these here."
   ]
  },
  {
   "cell_type": "code",
   "execution_count": 1,
   "metadata": {},
   "outputs": [],
   "source": [
    "using Distributed"
   ]
  },
  {
   "cell_type": "code",
   "execution_count": 2,
   "metadata": {},
   "outputs": [
    {
     "data": {
      "text/plain": [
       "3-element Vector{Int64}:\n",
       " 2\n",
       " 3\n",
       " 4"
      ]
     },
     "execution_count": 2,
     "metadata": {},
     "output_type": "execute_result"
    }
   ],
   "source": [
    "addprocs(2)"
   ]
  },
  {
   "cell_type": "code",
   "execution_count": 3,
   "metadata": {},
   "outputs": [
    {
     "name": "stderr",
     "output_type": "stream",
     "text": [
      "\u001b[36m\u001b[1m[ \u001b[22m\u001b[39m\u001b[36m\u001b[1mInfo: \u001b[22m\u001b[39mPrecompiling InvariantDA [89772154-e7dd-42c1-9ff1-66f2d667c9c9]\n"
     ]
    }
   ],
   "source": [
    "@everywhere begin\n",
    "    using Revise\n",
    "    using LinearAlgebra\n",
    "    using InvariantDA\n",
    "    using TransportBasedInference\n",
    "    using Statistics\n",
    "    using Distributions\n",
    "    using PDMats\n",
    "    using FFTW\n",
    "    using OrdinaryDiffEq\n",
    "    using ProgressMeter\n",
    "    using JLD\n",
    "end"
   ]
  },
  {
   "cell_type": "code",
   "execution_count": 4,
   "metadata": {},
   "outputs": [],
   "source": [
    "@everywhere path = \"/Users/mathieu/Documents/InvariantDA.jl/notebooks/linear_advection/\""
   ]
  },
  {
   "cell_type": "code",
   "execution_count": 5,
   "metadata": {},
   "outputs": [],
   "source": [
    "@everywhere begin\n",
    "Nx = 128\n",
    "Ny = 32\n",
    "end"
   ]
  },
  {
   "cell_type": "code",
   "execution_count": 6,
   "metadata": {},
   "outputs": [],
   "source": [
    "@everywhere begin\n",
    "Δtdyn = 0.05\n",
    "Δtobs = 0.05\n",
    "end"
   ]
  },
  {
   "cell_type": "code",
   "execution_count": 7,
   "metadata": {},
   "outputs": [],
   "source": [
    "@everywhere begin\n",
    "t0 = 0.0\n",
    "Tf = 2000\n",
    "tf = Tf*Δtobs\n",
    "\n",
    "Tmetric = 1000\n",
    "tmetric = Tmetric*Δtobs\n",
    "end"
   ]
  },
  {
   "cell_type": "code",
   "execution_count": 8,
   "metadata": {},
   "outputs": [],
   "source": [
    "@everywhere π0 = MvNormal(zeros(Nx), Matrix(1.0*I, Nx, Nx))"
   ]
  },
  {
   "cell_type": "code",
   "execution_count": 9,
   "metadata": {},
   "outputs": [],
   "source": [
    "@everywhere begin\n",
    "# Parameters to set-up the linear advection problem\n",
    "L = 1.0\n",
    "c = 1.0\n",
    "Δx = L/Nx\n",
    "xgrid = collect(Δx*(0:1:Nx-1))\n",
    "    \n",
    "params = Dict(\"N\" => Nx,\n",
    "              \"L\" => L,\n",
    "              \"c\" => c,\n",
    "              \"plan\" => plan_rfft(zeros(Nx)),\n",
    "              \"c∂x\" => map(k-> k == Nx÷2 ? 0.0*im : c*(2*π*im*k/L), 0:Nx÷2))\n",
    "end"
   ]
  },
  {
   "cell_type": "code",
   "execution_count": 10,
   "metadata": {},
   "outputs": [
    {
     "data": {
      "text/plain": [
       "6.4"
      ]
     },
     "execution_count": 10,
     "metadata": {},
     "output_type": "execute_result"
    }
   ],
   "source": [
    "cfl = c*Δtdyn/Δx"
   ]
  },
  {
   "cell_type": "code",
   "execution_count": 11,
   "metadata": {},
   "outputs": [],
   "source": [
    "# m0 = 1.0"
   ]
  },
  {
   "cell_type": "code",
   "execution_count": 12,
   "metadata": {},
   "outputs": [],
   "source": [
    "@everywhere x0 = irfft((randn(Nx÷2+1) + im*randn(Nx÷2+1)).* map(k-> exp(-0.5*k), 1:Nx÷2+1), Nx)/Δx;"
   ]
  },
  {
   "cell_type": "code",
   "execution_count": 13,
   "metadata": {},
   "outputs": [],
   "source": [
    "@everywhere begin \n",
    "h(x, t) = x[1:4:end]\n",
    "H = Matrix(1.0*I, Nx, Nx)[1:4:end,:]\n",
    "F = StateSpace((du, u, p, t) -> spectral_linear_advection!(du, u, params, t), h)\n",
    "end"
   ]
  },
  {
   "cell_type": "code",
   "execution_count": 14,
   "metadata": {},
   "outputs": [],
   "source": [
    "@everywhere begin\n",
    "    σx = 1e-16\n",
    "    σy = 0.5\n",
    "\n",
    "    ϵx = AdditiveInflation(Nx, zeros(Nx), σx)\n",
    "    ϵy = AdditiveInflation(Ny, zeros(Ny), σy)\n",
    "end"
   ]
  },
  {
   "cell_type": "code",
   "execution_count": 15,
   "metadata": {},
   "outputs": [],
   "source": [
    "@everywhere begin\n",
    "    Δ = 4\n",
    "    yidx = 1:Δ:Nx\n",
    "    idx = vcat(collect(1:length(yidx))', collect(yidx)')\n",
    "\n",
    "    # Create Localization structure\n",
    "    Gxx(i,j) = periodicmetric!(i,j, Nx)\n",
    "    Gxy(i,j) = periodicmetric!(i,yidx[j], Nx)\n",
    "    Gyy(i,j) = periodicmetric!(yidx[i],yidx[j], Nx)\n",
    "end"
   ]
  },
  {
   "cell_type": "code",
   "execution_count": 16,
   "metadata": {},
   "outputs": [],
   "source": [
    "@everywhere model = Model(Nx, Ny, Δtdyn, Δtobs, ϵx, ϵy, π0, 0, 0, 0, F);"
   ]
  },
  {
   "cell_type": "code",
   "execution_count": 17,
   "metadata": {},
   "outputs": [],
   "source": [
    "@everywhere begin\n",
    "ϕm = ones(Nx)/sqrt(Nx);\n",
    "Qm = qr(ϕm).Q;\n",
    "Qperp = Qm*Matrix(1.0*I, Nx, Nx)[:,2:end];\n",
    "end"
   ]
  },
  {
   "cell_type": "code",
   "execution_count": 18,
   "metadata": {},
   "outputs": [],
   "source": [
    "@everywhere m0 = dot(ϕm, x0)"
   ]
  },
  {
   "cell_type": "code",
   "execution_count": 22,
   "metadata": {},
   "outputs": [],
   "source": [
    "@everywhere begin\n",
    "# data = generate_data_rfft(model, x0, Tf);\n",
    "# save(path*\"linear_advection_data_benchmark_enkf.jld\", \"data\", data)\n",
    "data = load(path*\"linear_advection_data_benchmark_enkf.jld\", \"data\")\n",
    "end"
   ]
  },
  {
   "cell_type": "markdown",
   "metadata": {},
   "source": [
    "Define the different filters"
   ]
  },
  {
   "cell_type": "code",
   "execution_count": 23,
   "metadata": {},
   "outputs": [],
   "source": [
    "@everywhere Nrun = 1"
   ]
  },
  {
   "cell_type": "code",
   "execution_count": 24,
   "metadata": {},
   "outputs": [],
   "source": [
    "@everywhere function custom_output_metrics(data::SyntheticData, model::Model, Tbegin::Int64, Tend::Int64, statehist::Array{Array{Float64,2},1})\n",
    "    Ne = size(statehist[1],2)\n",
    "\n",
    "    # Post_process compute the statistics (mean, median, and\n",
    "    # standard deviation) of the RMSE, spread and coverage\n",
    "    # probability over (J-T_BurnIn) assimilation steps.\n",
    "\n",
    "    # enshist contains the initial condition, so one more element\n",
    "    idx_xt = Tbegin+1:Tend\n",
    "\n",
    "    idx_ens = Tbegin+2:Tend+1\n",
    "\n",
    "    # Compute root mean square error statistics\n",
    "    Rmse, Rmse_med, Rmse_mean, Rmse_std = metric_hist(rmse, data.xt[:,idx_xt], statehist[idx_ens])\n",
    "    # Compute ensemble spread statistics\n",
    "    Spread, Spread_med, Spread_mean, Spread_std = metric_hist(spread, statehist[idx_ens])\n",
    "    # Compute quantile information\n",
    "    qinf, qsup = TransportBasedInference.quant(statehist[idx_ens])\n",
    "\n",
    "    # Compute coverage probability statistics\n",
    "\n",
    "    Covprob = zeros(length(idx_xt))\n",
    "    b = zeros(Bool, model.Nx)\n",
    "    for (i,idx) in enumerate(idx_xt)\n",
    "        for j=1:model.Nx\n",
    "        b[j] = (qsup[j,i] >= data.xt[j,idx] >= qinf[j,i])\n",
    "        end\n",
    "        Covprob[i] = deepcopy(mean(b))\n",
    "    end\n",
    "\n",
    "    Covprob_med  = median(Covprob)\n",
    "    Covprob_mean = mean(Covprob)\n",
    "    Covprob_std  = std(Covprob)\n",
    "\n",
    "    Metric = Metrics(Ne, Rmse, Rmse_med, Rmse_mean, Rmse_std, Spread, Spread_med,\n",
    "                    Spread_mean, Spread_std, Covprob, Covprob_med,\n",
    "                    Covprob_mean, Covprob_std)\n",
    "    return Metric\n",
    "end"
   ]
  },
  {
   "cell_type": "code",
   "execution_count": 25,
   "metadata": {},
   "outputs": [],
   "source": [
    "@everywhere begin\n",
    "    β_array = collect(0.95:0.01:1.05)\n",
    "    L_array = collect(3:1:40)\n",
    "    Ne_array = [40, 50, 60, 80, 100, 120, 150, 200, 300, 500]\n",
    "end"
   ]
  },
  {
   "cell_type": "code",
   "execution_count": 26,
   "metadata": {},
   "outputs": [],
   "source": [
    "# Distribution for the mass uncertainty\n",
    "@everywhere πm0 = Uniform(0.9, 1.1)"
   ]
  },
  {
   "cell_type": "code",
   "execution_count": null,
   "metadata": {
    "scrolled": true
   },
   "outputs": [
    {
     "name": "stdout",
     "output_type": "stream",
     "text": [
      "      From worker 4:\tNe = 200\n",
      "      From worker 2:\tNe = 40\n",
      "      From worker 3:\tNe = 100\n"
     ]
    }
   ],
   "source": [
    "@everywhere begin\n",
    "    metric_enkf_list = []\n",
    "    metric_enkf_mass_list = []\n",
    "end\n",
    "\n",
    "@sync @distributed for Ne in Ne_array\n",
    "    @show Ne\n",
    "    metric_enkf_Ne = Metrics[]\n",
    "    metric_enkf_mass_Ne = Metrics[]\n",
    "\n",
    "    X = zeros(model.Ny + model.Nx, Ne)\n",
    "\n",
    "    # Generate the initial conditions for the state.\n",
    "    \n",
    "    for i=1:Ne\n",
    "        xsmoothi = irfft((randn(Nx÷2+1) + im*randn(Nx÷2+1)).* map(k-> exp(-0.5*k^(1.3)), 1:Nx÷2+1), Nx)/Δx;\n",
    "        mi = m0*rand(πm0)\n",
    "\n",
    "        X[Ny+1:Ny+Nx,i] = ϕm*mi + (I - ϕm*ϕm')*xsmoothi\n",
    "    end\n",
    "\n",
    "    for β in β_array\n",
    "        for Lrad in L_array\n",
    "            Loc = Localization(Lrad, Gxx, Gxy, Gyy)\n",
    "        \n",
    "            enkf = LocEnKF(model.ϵy, model.Δtdyn, model.Δtobs, Loc, H)\n",
    "            ϵxβ = MultiAddInflation(Nx, β, zeros(Nx), σx)\n",
    "            Xenkf = seqassim_rfft(F, data, Tf, ϵxβ, enkf, deepcopy(X), model.Ny, model.Nx, t0)\n",
    "        \n",
    "            metric_enkf = custom_output_metrics(data, model, Tmetric, Tf,  Xenkf)\n",
    "            push!(metric_enkf_Ne, deepcopy(metric_enkf))\n",
    "                \n",
    "            Xenkf_mass = seqassim_rfft_project_mass(F, data, Tf, ϵxβ, ϕm, enkf, deepcopy(X), model.Ny, model.Nx, t0)\n",
    "\n",
    "            metric_enkf_mass = custom_output_metrics(data, model, Tmetric, Tf,  Xenkf_mass)\n",
    "            push!(metric_enkf_mass_Ne, deepcopy(metric_enkf_mass))\n",
    "        end\n",
    "    end\n",
    "    \n",
    "    push!(metric_enkf_list, deepcopy(metric_enkf_Ne))    \n",
    "    push!(metric_enkf_mass_list, deepcopy(metric_enkf_mass_Ne))\n",
    "            \n",
    "    save(path*\"benchmark_linear_advection_enkf.jld\", \"metric\", metric_enkf_list)\n",
    "    save(path*\"benchmark_linear_advection_enkf_mass.jld\", \"metric\", metric_enkf_mass_list)\n",
    "        \n",
    "    print(\"Done \"*string(Ne))\n",
    "end"
   ]
  },
  {
   "cell_type": "code",
   "execution_count": null,
   "metadata": {},
   "outputs": [],
   "source": []
  },
  {
   "cell_type": "code",
   "execution_count": null,
   "metadata": {},
   "outputs": [],
   "source": []
  },
  {
   "cell_type": "code",
   "execution_count": null,
   "metadata": {},
   "outputs": [],
   "source": []
  }
 ],
 "metadata": {
  "kernelspec": {
   "display_name": "Julia 1.9.2",
   "language": "julia",
   "name": "julia-1.9"
  },
  "language_info": {
   "file_extension": ".jl",
   "mimetype": "application/julia",
   "name": "julia",
   "version": "1.9.2"
  }
 },
 "nbformat": 4,
 "nbformat_minor": 2
}
